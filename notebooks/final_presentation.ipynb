{
 "cells": [
  {
   "cell_type": "markdown",
   "metadata": {},
   "source": [
    "# Call Center Simulation\n",
    "\n",
    "###  Summer 2020 DATA 604 // Kevin Potter\n",
    "\n",
    "Tis simulation looks at the average hold time it takes to have a questions answered using and automated telephone system. Over the past decade we have a seen large shift in the way customer service is handled. Previously when a customer would call, you would enter a queue to which a a live person would answer the phone and attempt to help you. The result of this conversation could result in your question answered by this representative or being transferred to another department to answer the question. Nowadays most large companies you call the system is either entirely automated, where there is no live person available, or some of the hotline is automated where you go through a series of prompts to get you to the correct department. \n",
    "\n",
    "Staffing call centers comes at a great expense to companies so having this optimized can be a big cost saver. In this notebook I will create a sample customer service experience and examine the average time of a customer spent on the phone.\n",
    "\n",
    "![](flowchart.png)"
   ]
  },
  {
   "cell_type": "markdown",
   "metadata": {},
   "source": [
    "## Import Packages"
   ]
  },
  {
   "cell_type": "code",
   "execution_count": 113,
   "metadata": {},
   "outputs": [],
   "source": [
    "# Configure Jupyter so figures appear in the notebook\n",
    "%matplotlib inline\n",
    "\n",
    "# Configure Jupyter to display the assigned value after an assignment\n",
    "%config InteractiveShell.ast_node_interactivity='last_expr_or_assign'\n",
    "\n",
    "# import functions from the modsim.py module\n",
    "from modsim import *\n",
    "\n",
    "# Load Visualization Packages\n",
    "import seaborn as sns\n",
    "import matplotlib.pyplot as plt\n",
    "import numpy as np\n",
    "\n",
    "# Random Number Generator\n",
    "import random"
   ]
  },
  {
   "cell_type": "markdown",
   "metadata": {},
   "source": [
    "## Make System\n",
    "\n",
    "The system follows the flow chart about with the following additions to the wait time. If the called is selects Options 1 goes straight to a tech support rep with an average call time of 10 minutes.   \n",
    "\n",
    "If the caller selects billing, it goes to another menu with three options. One to change contact info with average call time of 4 minutes, two makes a payment with average additional time of 5 minutes, and other payment which has an average time of 7 minutes. \n",
    "\n",
    "The other option is another prompt menu with two options, one that allows the user to leave a message which will add 2 minutes, and the other suggest the user goes online to answer the question which will add 1 minute.\n",
    "\n",
    "Each prompt menu adds 1 minute to listen to the options. "
   ]
  },
  {
   "cell_type": "code",
   "execution_count": 56,
   "metadata": {},
   "outputs": [
    {
     "data": {
      "text/html": [
       "<div>\n",
       "<style scoped>\n",
       "    .dataframe tbody tr th:only-of-type {\n",
       "        vertical-align: middle;\n",
       "    }\n",
       "\n",
       "    .dataframe tbody tr th {\n",
       "        vertical-align: top;\n",
       "    }\n",
       "\n",
       "    .dataframe thead th {\n",
       "        text-align: right;\n",
       "    }\n",
       "</style>\n",
       "<table border=\"1\" class=\"dataframe\">\n",
       "  <thead>\n",
       "    <tr style=\"text-align: right;\">\n",
       "      <th></th>\n",
       "      <th>values</th>\n",
       "    </tr>\n",
       "  </thead>\n",
       "  <tbody>\n",
       "    <tr>\n",
       "      <th>call_time</th>\n",
       "      <td>0</td>\n",
       "    </tr>\n",
       "  </tbody>\n",
       "</table>\n",
       "</div>"
      ],
      "text/plain": [
       "call_time    0\n",
       "dtype: int64"
      ]
     },
     "execution_count": 56,
     "metadata": {},
     "output_type": "execute_result"
    }
   ],
   "source": [
    "state = State(call_time=0)"
   ]
  },
  {
   "cell_type": "code",
   "execution_count": 62,
   "metadata": {},
   "outputs": [
    {
     "data": {
      "text/html": [
       "<div>\n",
       "<style scoped>\n",
       "    .dataframe tbody tr th:only-of-type {\n",
       "        vertical-align: middle;\n",
       "    }\n",
       "\n",
       "    .dataframe tbody tr th {\n",
       "        vertical-align: top;\n",
       "    }\n",
       "\n",
       "    .dataframe thead th {\n",
       "        text-align: right;\n",
       "    }\n",
       "</style>\n",
       "<table border=\"1\" class=\"dataframe\">\n",
       "  <thead>\n",
       "    <tr style=\"text-align: right;\">\n",
       "      <th></th>\n",
       "      <th>values</th>\n",
       "    </tr>\n",
       "  </thead>\n",
       "  <tbody>\n",
       "    <tr>\n",
       "      <th>init</th>\n",
       "      <td>call_time    0\n",
       "dtype: int64</td>\n",
       "    </tr>\n",
       "    <tr>\n",
       "      <th>tech</th>\n",
       "      <td>10</td>\n",
       "    </tr>\n",
       "    <tr>\n",
       "      <th>bill_1</th>\n",
       "      <td>4</td>\n",
       "    </tr>\n",
       "    <tr>\n",
       "      <th>bill_2</th>\n",
       "      <td>4</td>\n",
       "    </tr>\n",
       "    <tr>\n",
       "      <th>bill_3</th>\n",
       "      <td>7</td>\n",
       "    </tr>\n",
       "    <tr>\n",
       "      <th>other_1</th>\n",
       "      <td>2</td>\n",
       "    </tr>\n",
       "    <tr>\n",
       "      <th>other_2</th>\n",
       "      <td>1</td>\n",
       "    </tr>\n",
       "  </tbody>\n",
       "</table>\n",
       "</div>"
      ],
      "text/plain": [
       "init       call_time    0\n",
       "dtype: int64\n",
       "tech                                10\n",
       "bill_1                               4\n",
       "bill_2                               4\n",
       "bill_3                               7\n",
       "other_1                              2\n",
       "other_2                              1\n",
       "dtype: object"
      ]
     },
     "execution_count": 62,
     "metadata": {},
     "output_type": "execute_result"
    }
   ],
   "source": [
    "system = System(\n",
    "    init = state,\n",
    "    tech=10,\n",
    "    bill_1=4,\n",
    "    bill_2=4,\n",
    "    bill_3=7,\n",
    "    other_1=2,\n",
    "    other_2=1\n",
    ")"
   ]
  },
  {
   "cell_type": "markdown",
   "metadata": {},
   "source": [
    "## Random Option Generator\n",
    "\n",
    "These functions generate the number that caller will chose when calling in. If no odds are passed in to skew the distribution the functions treat each option as likely as the other."
   ]
  },
  {
   "cell_type": "code",
   "execution_count": 58,
   "metadata": {},
   "outputs": [],
   "source": [
    "def main_line(odds):\n",
    "    if odds == None:\n",
    "        option = random.randint(1,4)\n",
    "    else:\n",
    "        option= random.choice([1,2,3], weights=odds)\n",
    "    return option\n",
    "\n",
    "def billing():\n",
    "    return random.randint(1,4)   \n",
    "\n",
    "def other():\n",
    "    return random.randint(1,3)"
   ]
  },
  {
   "cell_type": "markdown",
   "metadata": {},
   "source": [
    "## Update Function\n",
    "\n",
    "Makes the additions in relation to the flow chart and returns the average total time on the call"
   ]
  },
  {
   "cell_type": "code",
   "execution_count": 97,
   "metadata": {},
   "outputs": [],
   "source": [
    "def update_function(system, odds):\n",
    "    call_time = system.init.call_time\n",
    "    call_time += 1\n",
    "    if odds == None:\n",
    "        option = main_line(None)\n",
    "        if option == 1:\n",
    "            call_time += system.tech\n",
    "        elif option == 2:\n",
    "            call_time += 1 \n",
    "            bill_option = billing()\n",
    "            \n",
    "            if bill_option == 1:\n",
    "                call_time += system.bill_1\n",
    "            elif bill_option == 2:\n",
    "                call_time += system.bill_2\n",
    "            else:\n",
    "                call_time += system.bill_3\n",
    "        \n",
    "        else:\n",
    "            call_time += 1\n",
    "            other_option = other()\n",
    "            if other_option == 1:\n",
    "                call_time += system.other_1\n",
    "            else:\n",
    "                call_time += system.other_2\n",
    "                \n",
    "    else:\n",
    "        option = main_line(None)\n",
    "        if option == 1:\n",
    "            call_time += system.tech\n",
    "        elif option == 2:\n",
    "            call_time += 1 \n",
    "            bill_option = billing()\n",
    "            \n",
    "            if bill_option == 1:\n",
    "                call_time += system.bill_1\n",
    "            elif bill_option == 2:\n",
    "                call_time += system.bill_2\n",
    "            else:\n",
    "                call_time += system.bill_3\n",
    "        \n",
    "        else:\n",
    "            call_time += 1\n",
    "            other_option = other()\n",
    "            if other_option == 1:\n",
    "                call_time += system.other_1\n",
    "            else:\n",
    "                call_time += system.other_2\n",
    "                \n",
    "    return call_time  "
   ]
  },
  {
   "cell_type": "markdown",
   "metadata": {},
   "source": [
    "## Run Simulation\n",
    "\n",
    "The simulation function runs the simulation for 1000 customer that call in and stores the information in results and returns this informaiton. "
   ]
  },
  {
   "cell_type": "code",
   "execution_count": 100,
   "metadata": {},
   "outputs": [],
   "source": [
    "def run_simulation(system, update_func, odds):\n",
    "    \"\"\"Runs a simulation of the system.\n",
    "    \n",
    "    Add a SweeSeries to the System: results\n",
    "    \n",
    "    system: System object\n",
    "    update_func: function that updates state\n",
    "    \"\"\"\n",
    "    \n",
    "    sweep = SweepSeries()\n",
    "    for n in range(1000):\n",
    "        sweep[n] = update_func(system, odds)\n",
    "    \n",
    "    return sweep"
   ]
  },
  {
   "cell_type": "code",
   "execution_count": 101,
   "metadata": {
    "scrolled": true
   },
   "outputs": [
    {
     "data": {
      "text/plain": [
       "6.238"
      ]
     },
     "execution_count": 101,
     "metadata": {},
     "output_type": "execute_result"
    }
   ],
   "source": [
    "results = run_simulation(system, update_function, None)\n",
    "results.mean()"
   ]
  },
  {
   "cell_type": "code",
   "execution_count": 102,
   "metadata": {},
   "outputs": [
    {
     "data": {
      "image/png": "[encoded data removed]",
      "text/plain": [
       "<Figure size 432x288 with 1 Axes>"
      ]
     },
     "metadata": {
      "needs_background": "light"
     },
     "output_type": "display_data"
    }
   ],
   "source": [
    "plt.xlabel('Frequency')\n",
    "plt.ylabel('Minutes')\n",
    "plt.title('Distribution Plot')\n",
    "sns.distplot(results);"
   ]
  },
  {
   "cell_type": "markdown",
   "metadata": {},
   "source": [
    "## Odds\n",
    "\n",
    "This section examines the difference in average time and distributions of how long a customer may be on the phone is callers are more likely to select one of the three options from the main screen.\n",
    "\n",
    "### Lean to Option 1"
   ]
  },
  {
   "cell_type": "code",
   "execution_count": 103,
   "metadata": {},
   "outputs": [
    {
     "data": {
      "text/plain": [
       "6.244"
      ]
     },
     "execution_count": 103,
     "metadata": {},
     "output_type": "execute_result"
    }
   ],
   "source": [
    "odds_1 = [.6,.2,.2]\n",
    "results_1 = run_simulation(system, update_function, odds_1)\n",
    "results_1.mean()"
   ]
  },
  {
   "cell_type": "code",
   "execution_count": 104,
   "metadata": {
    "scrolled": true
   },
   "outputs": [
    {
     "data": {
      "image/png": "[encoded data removed]",
      "text/plain": [
       "<Figure size 432x288 with 1 Axes>"
      ]
     },
     "metadata": {
      "needs_background": "light"
     },
     "output_type": "display_data"
    }
   ],
   "source": [
    "plt.xlabel('Frequency')\n",
    "plt.ylabel('Minutes')\n",
    "plt.title('Distribution Plot')\n",
    "sns.distplot(results_1);"
   ]
  },
  {
   "cell_type": "markdown",
   "metadata": {},
   "source": [
    "### Lean to Option 2"
   ]
  },
  {
   "cell_type": "code",
   "execution_count": 105,
   "metadata": {},
   "outputs": [
    {
     "data": {
      "text/plain": [
       "6.234"
      ]
     },
     "execution_count": 105,
     "metadata": {},
     "output_type": "execute_result"
    }
   ],
   "source": [
    "odds_2 = [.2,.6,.2]\n",
    "results_2 = run_simulation(system, update_function, odds_2)\n",
    "results_2.mean()"
   ]
  },
  {
   "cell_type": "code",
   "execution_count": 106,
   "metadata": {},
   "outputs": [
    {
     "data": {
      "image/png": "[encoded data removed]",
      "text/plain": [
       "<Figure size 432x288 with 1 Axes>"
      ]
     },
     "metadata": {
      "needs_background": "light"
     },
     "output_type": "display_data"
    }
   ],
   "source": [
    "plt.xlabel('Frequency')\n",
    "plt.ylabel('Minutes')\n",
    "plt.title('Distribution Plot')\n",
    "sns.distplot(results_2);"
   ]
  },
  {
   "cell_type": "markdown",
   "metadata": {},
   "source": [
    "### Lean to Option 3"
   ]
  },
  {
   "cell_type": "code",
   "execution_count": 107,
   "metadata": {},
   "outputs": [
    {
     "data": {
      "text/plain": [
       "6.344"
      ]
     },
     "execution_count": 107,
     "metadata": {},
     "output_type": "execute_result"
    }
   ],
   "source": [
    "odds_3 = [.2,.2,.6]\n",
    "results_3 = run_simulation(system, update_function, odds_3)\n",
    "results_3.mean()"
   ]
  },
  {
   "cell_type": "code",
   "execution_count": 108,
   "metadata": {},
   "outputs": [
    {
     "data": {
      "image/png": "[encoded data removed]",
      "text/plain": [
       "<Figure size 432x288 with 1 Axes>"
      ]
     },
     "metadata": {
      "needs_background": "light"
     },
     "output_type": "display_data"
    }
   ],
   "source": [
    "plt.xlabel('Frequency')\n",
    "plt.ylabel('Minutes')\n",
    "plt.title('Distribution Plot')\n",
    "sns.distplot(results_3);"
   ]
  },
  {
   "cell_type": "code",
   "execution_count": 118,
   "metadata": {},
   "outputs": [
    {
     "data": {
      "image/png": "[encoded data removed]",
      "text/plain": [
       "<Figure size 432x288 with 1 Axes>"
      ]
     },
     "metadata": {
      "needs_background": "light"
     },
     "output_type": "display_data"
    }
   ],
   "source": [
    "plt.plot([results.mean(), results_1.mean(), results_2.mean(), results_3.mean()])\n",
    "plt.xticks(np.arange(4), ['Results', 'Results 1', \"Results 2\", \"Results 3\"])\n",
    "plt.ylabel('Minutes')\n",
    "plt.title('Average Minutes by Result');"
   ]
  },
  {
   "cell_type": "markdown",
   "metadata": {},
   "source": [
    "## Conclusion\n",
    "\n",
    "This system can be used as a starter system for observing the amount of time a person can spend on the phone with a call center. All the numbers in this system are made up but you could easily replace the data with actual wait times. Many call center systems have multiple menus with up to 9 options to select from. \n",
    "\n",
    "This average wait time did not really change when the options were weighted to one option or the other. The biggest increase in call time when we placed a greater likelihood toward the third option which is counterintuitive to what I would have thought."
   ]
  }
 ],
 "metadata": {
  "kernelspec": {
   "display_name": "Python 3",
   "language": "python",
   "name": "python3"
  },
  "language_info": {
   "codemirror_mode": {
    "name": "ipython",
    "version": 3
   },
   "file_extension": ".py",
   "mimetype": "text/x-python",
   "name": "python",
   "nbconvert_exporter": "python",
   "pygments_lexer": "ipython3",
   "version": "3.6.8"
  }
 },
 "nbformat": 4,
 "nbformat_minor": 2
}
