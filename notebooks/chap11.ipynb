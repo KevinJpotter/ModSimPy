{
 "cells": [
  {
   "cell_type": "markdown",
   "metadata": {},
   "source": [
    "# Modeling and Simulation in Python\n",
    "\n",
    "Chapter 11\n",
    "\n",
    "Copyright 2017 Allen Downey\n",
    "\n",
    "License: [Creative Commons Attribution 4.0 International](https://creativecommons.org/licenses/by/4.0)"
   ]
  },
  {
   "cell_type": "code",
   "execution_count": 77,
   "metadata": {},
   "outputs": [],
   "source": [
    "# Configure Jupyter so figures appear in the notebook\n",
    "%matplotlib inline\n",
    "\n",
    "# Configure Jupyter to display the assigned value after an assignment\n",
    "%config InteractiveShell.ast_node_interactivity='last_expr_or_assign'\n",
    "\n",
    "# import functions from the modsim.py module\n",
    "from modsim import *"
   ]
  },
  {
   "cell_type": "markdown",
   "metadata": {},
   "source": [
    "### SIR implementation\n",
    "\n",
    "We'll use a `State` object to represent the number (or fraction) of people in each compartment."
   ]
  },
  {
   "cell_type": "code",
   "execution_count": 78,
   "metadata": {},
   "outputs": [
    {
     "data": {
      "text/html": [
       "<div>\n",
       "<style scoped>\n",
       "    .dataframe tbody tr th:only-of-type {\n",
       "        vertical-align: middle;\n",
       "    }\n",
       "\n",
       "    .dataframe tbody tr th {\n",
       "        vertical-align: top;\n",
       "    }\n",
       "\n",
       "    .dataframe thead th {\n",
       "        text-align: right;\n",
       "    }\n",
       "</style>\n",
       "<table border=\"1\" class=\"dataframe\">\n",
       "  <thead>\n",
       "    <tr style=\"text-align: right;\">\n",
       "      <th></th>\n",
       "      <th>values</th>\n",
       "    </tr>\n",
       "  </thead>\n",
       "  <tbody>\n",
       "    <tr>\n",
       "      <td>S</td>\n",
       "      <td>89</td>\n",
       "    </tr>\n",
       "    <tr>\n",
       "      <td>I</td>\n",
       "      <td>1</td>\n",
       "    </tr>\n",
       "    <tr>\n",
       "      <td>R</td>\n",
       "      <td>0</td>\n",
       "    </tr>\n",
       "  </tbody>\n",
       "</table>\n",
       "</div>"
      ],
      "text/plain": [
       "S    89\n",
       "I     1\n",
       "R     0\n",
       "dtype: int64"
      ]
     },
     "execution_count": 78,
     "metadata": {},
     "output_type": "execute_result"
    }
   ],
   "source": [
    "init = State(S=89, I=1, R=0)"
   ]
  },
  {
   "cell_type": "markdown",
   "metadata": {},
   "source": [
    "To convert from number of people to fractions, we divide through by the total."
   ]
  },
  {
   "cell_type": "code",
   "execution_count": 79,
   "metadata": {},
   "outputs": [
    {
     "data": {
      "text/html": [
       "<div>\n",
       "<style scoped>\n",
       "    .dataframe tbody tr th:only-of-type {\n",
       "        vertical-align: middle;\n",
       "    }\n",
       "\n",
       "    .dataframe tbody tr th {\n",
       "        vertical-align: top;\n",
       "    }\n",
       "\n",
       "    .dataframe thead th {\n",
       "        text-align: right;\n",
       "    }\n",
       "</style>\n",
       "<table border=\"1\" class=\"dataframe\">\n",
       "  <thead>\n",
       "    <tr style=\"text-align: right;\">\n",
       "      <th></th>\n",
       "      <th>values</th>\n",
       "    </tr>\n",
       "  </thead>\n",
       "  <tbody>\n",
       "    <tr>\n",
       "      <td>S</td>\n",
       "      <td>0.988889</td>\n",
       "    </tr>\n",
       "    <tr>\n",
       "      <td>I</td>\n",
       "      <td>0.011111</td>\n",
       "    </tr>\n",
       "    <tr>\n",
       "      <td>R</td>\n",
       "      <td>0.000000</td>\n",
       "    </tr>\n",
       "  </tbody>\n",
       "</table>\n",
       "</div>"
      ],
      "text/plain": [
       "S    0.988889\n",
       "I    0.011111\n",
       "R    0.000000\n",
       "dtype: float64"
      ]
     },
     "execution_count": 79,
     "metadata": {},
     "output_type": "execute_result"
    }
   ],
   "source": [
    "init /= sum(init)"
   ]
  },
  {
   "cell_type": "markdown",
   "metadata": {},
   "source": [
    "`make_system` creates a `System` object with the given parameters."
   ]
  },
  {
   "cell_type": "code",
   "execution_count": 80,
   "metadata": {},
   "outputs": [],
   "source": [
    "def make_system(beta, gamma):\n",
    "    \"\"\"Make a system object for the SIR model.\n",
    "    \n",
    "    beta: contact rate in days\n",
    "    gamma: recovery rate in days\n",
    "    \n",
    "    returns: System object\n",
    "    \"\"\"\n",
    "    init = State(S=89, I=1, R=0)\n",
    "    init /= sum(init)\n",
    "\n",
    "    t0 = 0\n",
    "    t_end = 7 * 14\n",
    "\n",
    "    return System(init=init, t0=t0, t_end=t_end,\n",
    "                  beta=beta, gamma=gamma)"
   ]
  },
  {
   "cell_type": "markdown",
   "metadata": {},
   "source": [
    "Here's an example with hypothetical values for `beta` and `gamma`."
   ]
  },
  {
   "cell_type": "code",
   "execution_count": 81,
   "metadata": {},
   "outputs": [
    {
     "data": {
      "text/html": [
       "<div>\n",
       "<style scoped>\n",
       "    .dataframe tbody tr th:only-of-type {\n",
       "        vertical-align: middle;\n",
       "    }\n",
       "\n",
       "    .dataframe tbody tr th {\n",
       "        vertical-align: top;\n",
       "    }\n",
       "\n",
       "    .dataframe thead th {\n",
       "        text-align: right;\n",
       "    }\n",
       "</style>\n",
       "<table border=\"1\" class=\"dataframe\">\n",
       "  <thead>\n",
       "    <tr style=\"text-align: right;\">\n",
       "      <th></th>\n",
       "      <th>values</th>\n",
       "    </tr>\n",
       "  </thead>\n",
       "  <tbody>\n",
       "    <tr>\n",
       "      <td>init</td>\n",
       "      <td>S    0.988889\n",
       "I    0.011111\n",
       "R    0.000000\n",
       "dtyp...</td>\n",
       "    </tr>\n",
       "    <tr>\n",
       "      <td>t0</td>\n",
       "      <td>0</td>\n",
       "    </tr>\n",
       "    <tr>\n",
       "      <td>t_end</td>\n",
       "      <td>98</td>\n",
       "    </tr>\n",
       "    <tr>\n",
       "      <td>beta</td>\n",
       "      <td>0.333333</td>\n",
       "    </tr>\n",
       "    <tr>\n",
       "      <td>gamma</td>\n",
       "      <td>0.25</td>\n",
       "    </tr>\n",
       "  </tbody>\n",
       "</table>\n",
       "</div>"
      ],
      "text/plain": [
       "init     S    0.988889\n",
       "I    0.011111\n",
       "R    0.000000\n",
       "dtyp...\n",
       "t0                                                       0\n",
       "t_end                                                   98\n",
       "beta                                              0.333333\n",
       "gamma                                                 0.25\n",
       "dtype: object"
      ]
     },
     "execution_count": 81,
     "metadata": {},
     "output_type": "execute_result"
    }
   ],
   "source": [
    "tc = 3      # time between contacts in days \n",
    "tr = 4      # recovery time in days\n",
    "\n",
    "beta = 1 / tc      # contact rate in per day\n",
    "gamma = 1 / tr     # recovery rate in per day\n",
    "\n",
    "system = make_system(beta, gamma)"
   ]
  },
  {
   "cell_type": "markdown",
   "metadata": {},
   "source": [
    "The update function takes the state during the current time step and returns the state during the next time step."
   ]
  },
  {
   "cell_type": "code",
   "execution_count": 82,
   "metadata": {},
   "outputs": [],
   "source": [
    "def update_func(state, t, system):\n",
    "    \"\"\"Update the SIR model.\n",
    "    \n",
    "    state: State with variables S, I, R\n",
    "    t: time step\n",
    "    system: System with beta and gamma\n",
    "    \n",
    "    returns: State object\n",
    "    \"\"\"\n",
    "    s, i, r = state\n",
    "\n",
    "    infected = system.beta * i * s    \n",
    "    recovered = system.gamma * i\n",
    "    \n",
    "    s -= infected\n",
    "    i += infected - recovered\n",
    "    r += recovered\n",
    "    \n",
    "    return State(S=s, I=i, R=r)"
   ]
  },
  {
   "cell_type": "markdown",
   "metadata": {},
   "source": [
    "To run a single time step, we call it like this:"
   ]
  },
  {
   "cell_type": "code",
   "execution_count": 83,
   "metadata": {},
   "outputs": [
    {
     "data": {
      "text/html": [
       "<div>\n",
       "<style scoped>\n",
       "    .dataframe tbody tr th:only-of-type {\n",
       "        vertical-align: middle;\n",
       "    }\n",
       "\n",
       "    .dataframe tbody tr th {\n",
       "        vertical-align: top;\n",
       "    }\n",
       "\n",
       "    .dataframe thead th {\n",
       "        text-align: right;\n",
       "    }\n",
       "</style>\n",
       "<table border=\"1\" class=\"dataframe\">\n",
       "  <thead>\n",
       "    <tr style=\"text-align: right;\">\n",
       "      <th></th>\n",
       "      <th>values</th>\n",
       "    </tr>\n",
       "  </thead>\n",
       "  <tbody>\n",
       "    <tr>\n",
       "      <td>S</td>\n",
       "      <td>0.985226</td>\n",
       "    </tr>\n",
       "    <tr>\n",
       "      <td>I</td>\n",
       "      <td>0.011996</td>\n",
       "    </tr>\n",
       "    <tr>\n",
       "      <td>R</td>\n",
       "      <td>0.002778</td>\n",
       "    </tr>\n",
       "  </tbody>\n",
       "</table>\n",
       "</div>"
      ],
      "text/plain": [
       "S    0.985226\n",
       "I    0.011996\n",
       "R    0.002778\n",
       "dtype: float64"
      ]
     },
     "execution_count": 83,
     "metadata": {},
     "output_type": "execute_result"
    }
   ],
   "source": [
    "state = update_func(init, 0, system)"
   ]
  },
  {
   "cell_type": "markdown",
   "metadata": {},
   "source": [
    "Now we can run a simulation by calling the update function for each time step."
   ]
  },
  {
   "cell_type": "code",
   "execution_count": 84,
   "metadata": {},
   "outputs": [],
   "source": [
    "def run_simulation(system, update_func):\n",
    "    \"\"\"Runs a simulation of the system.\n",
    "    \n",
    "    system: System object\n",
    "    update_func: function that updates state\n",
    "    \n",
    "    returns: State object for final state\n",
    "    \"\"\"\n",
    "    state = system.init\n",
    "    for t in linrange(system.t0, system.t_end):\n",
    "        state = update_func(state, t, system)\n",
    "        \n",
    "    return state"
   ]
  },
  {
   "cell_type": "markdown",
   "metadata": {},
   "source": [
    "The result is the state of the system at `t_end`"
   ]
  },
  {
   "cell_type": "code",
   "execution_count": 85,
   "metadata": {
    "scrolled": true
   },
   "outputs": [
    {
     "data": {
      "text/html": [
       "<div>\n",
       "<style scoped>\n",
       "    .dataframe tbody tr th:only-of-type {\n",
       "        vertical-align: middle;\n",
       "    }\n",
       "\n",
       "    .dataframe tbody tr th {\n",
       "        vertical-align: top;\n",
       "    }\n",
       "\n",
       "    .dataframe thead th {\n",
       "        text-align: right;\n",
       "    }\n",
       "</style>\n",
       "<table border=\"1\" class=\"dataframe\">\n",
       "  <thead>\n",
       "    <tr style=\"text-align: right;\">\n",
       "      <th></th>\n",
       "      <th>values</th>\n",
       "    </tr>\n",
       "  </thead>\n",
       "  <tbody>\n",
       "    <tr>\n",
       "      <td>S</td>\n",
       "      <td>0.520568</td>\n",
       "    </tr>\n",
       "    <tr>\n",
       "      <td>I</td>\n",
       "      <td>0.000666</td>\n",
       "    </tr>\n",
       "    <tr>\n",
       "      <td>R</td>\n",
       "      <td>0.478766</td>\n",
       "    </tr>\n",
       "  </tbody>\n",
       "</table>\n",
       "</div>"
      ],
      "text/plain": [
       "S    0.520568\n",
       "I    0.000666\n",
       "R    0.478766\n",
       "dtype: float64"
      ]
     },
     "execution_count": 85,
     "metadata": {},
     "output_type": "execute_result"
    }
   ],
   "source": [
    "run_simulation(system, update_func)"
   ]
  },
  {
   "cell_type": "markdown",
   "metadata": {},
   "source": [
    "**Exercise**  Suppose the time between contacts is 4 days and the recovery time is 5 days.  After 14 weeks, how many students, total, have been infected?\n",
    "\n",
    "Hint: what is the change in `S` between the beginning and the end of the simulation?\n",
    "\n",
    "<br/>\n",
    "\n",
    "**Answer:** The change in ratio of infrected people went from 0.988889 to 0.520568 over the full time period."
   ]
  },
  {
   "cell_type": "code",
   "execution_count": 86,
   "metadata": {},
   "outputs": [
    {
     "data": {
      "text/html": [
       "<div>\n",
       "<style scoped>\n",
       "    .dataframe tbody tr th:only-of-type {\n",
       "        vertical-align: middle;\n",
       "    }\n",
       "\n",
       "    .dataframe tbody tr th {\n",
       "        vertical-align: top;\n",
       "    }\n",
       "\n",
       "    .dataframe thead th {\n",
       "        text-align: right;\n",
       "    }\n",
       "</style>\n",
       "<table border=\"1\" class=\"dataframe\">\n",
       "  <thead>\n",
       "    <tr style=\"text-align: right;\">\n",
       "      <th></th>\n",
       "      <th>values</th>\n",
       "    </tr>\n",
       "  </thead>\n",
       "  <tbody>\n",
       "    <tr>\n",
       "      <td>S</td>\n",
       "      <td>0.520568</td>\n",
       "    </tr>\n",
       "    <tr>\n",
       "      <td>I</td>\n",
       "      <td>0.000666</td>\n",
       "    </tr>\n",
       "    <tr>\n",
       "      <td>R</td>\n",
       "      <td>0.478766</td>\n",
       "    </tr>\n",
       "  </tbody>\n",
       "</table>\n",
       "</div>"
      ],
      "text/plain": [
       "S    0.520568\n",
       "I    0.000666\n",
       "R    0.478766\n",
       "dtype: float64"
      ]
     },
     "execution_count": 86,
     "metadata": {},
     "output_type": "execute_result"
    }
   ],
   "source": [
    "# Solution goes here\n",
    "tc2 = 4      # time between contacts in days \n",
    "tr2 = 5      # recovery time in days\n",
    "\n",
    "beta2 = 1 / tc      # contact rate in per day\n",
    "gamma2 = 1 / tr     # recovery rate in per day\n",
    "\n",
    "system2 = make_system(beta2, gamma2)\n",
    "\n",
    "run_simulation(system2, update_func)"
   ]
  },
  {
   "cell_type": "markdown",
   "metadata": {},
   "source": [
    "### Using TimeSeries objects"
   ]
  },
  {
   "cell_type": "markdown",
   "metadata": {},
   "source": [
    "If we want to store the state of the system at each time step, we can use one `TimeSeries` object for each state variable."
   ]
  },
  {
   "cell_type": "code",
   "execution_count": 87,
   "metadata": {},
   "outputs": [],
   "source": [
    "def run_simulation(system, update_func):\n",
    "    \"\"\"Runs a simulation of the system.\n",
    "    \n",
    "    Add three Series objects to the System: S, I, R\n",
    "    \n",
    "    system: System object\n",
    "    update_func: function that updates state\n",
    "    \"\"\"\n",
    "    S = TimeSeries()\n",
    "    I = TimeSeries()\n",
    "    R = TimeSeries()\n",
    "\n",
    "    state = system.init\n",
    "    t0 = system.t0\n",
    "    S[t0], I[t0], R[t0] = state\n",
    "    \n",
    "    for t in linrange(system.t0, system.t_end):\n",
    "        state = update_func(state, t, system)\n",
    "        S[t+1], I[t+1], R[t+1] = state\n",
    "    \n",
    "    return S, I, R"
   ]
  },
  {
   "cell_type": "markdown",
   "metadata": {},
   "source": [
    "Here's how we call it."
   ]
  },
  {
   "cell_type": "code",
   "execution_count": 88,
   "metadata": {},
   "outputs": [],
   "source": [
    "tc = 3      # time between contacts in days \n",
    "tr = 4      # recovery time in days\n",
    "\n",
    "beta = 1 / tc      # contact rate in per day\n",
    "gamma = 1 / tr     # recovery rate in per day\n",
    "\n",
    "system = make_system(beta, gamma)\n",
    "S, I, R = run_simulation(system, update_func)"
   ]
  },
  {
   "cell_type": "markdown",
   "metadata": {},
   "source": [
    "And then we can plot the results."
   ]
  },
  {
   "cell_type": "code",
   "execution_count": 89,
   "metadata": {},
   "outputs": [],
   "source": [
    "def plot_results(S, I, R):\n",
    "    \"\"\"Plot the results of a SIR model.\n",
    "    \n",
    "    S: TimeSeries\n",
    "    I: TimeSeries\n",
    "    R: TimeSeries\n",
    "    \"\"\"\n",
    "    plot(S, '--', label='Susceptible')\n",
    "    plot(I, '-', label='Infected')\n",
    "    plot(R, ':', label='Recovered')\n",
    "    decorate(xlabel='Time (days)',\n",
    "             ylabel='Fraction of population')"
   ]
  },
  {
   "cell_type": "markdown",
   "metadata": {},
   "source": [
    "Here's what they look like."
   ]
  },
  {
   "cell_type": "code",
   "execution_count": 90,
   "metadata": {},
   "outputs": [
    {
     "name": "stdout",
     "output_type": "stream",
     "text": [
      "Saving figure to file figs/chap11-fig01.pdf\n"
     ]
    },
    {
     "data": {
      "image/png": "iVBORw0KGgoAAAANSUhEUgAAAagAAAEYCAYAAAAJeGK1AAAABHNCSVQICAgIfAhkiAAAAAlwSFlzAAALEgAACxIB0t1+/AAAADh0RVh0U29mdHdhcmUAbWF0cGxvdGxpYiB2ZXJzaW9uMy4xLjMsIGh0dHA6Ly9tYXRwbG90bGliLm9yZy+AADFEAAAgAElEQVR4nOzdd3hUZfbA8e+U9F4IIZAQQnnpEAQivS+gKyCsZcXeFdFFrCAoLqIrglhQxHVRf6IINkBBsNBUpCjShJcaaihJID2ZTPn9MWFIQggjJJkknM/z5MnMO/fOPRMxJ++97z3H4HA4EEIIIaobo6cDEEIIIcoiCUoIIUS1JAlKCCFEtSQJSgghRLVk9nQAFU0p5QN0AlIAm4fDEUIIUTYTUA/YoLUuKGuDWpegcCanNZ4OQgghhFt6AD+V9UJtTFApAHPnziU6OtrTsQghhCjDsWPHGDlyJBT9zi5LbUxQNoDo6GgaNGjg6ViEEEKU77yXYmSRhBBCiGpJEpQQQohqySOn+JRSnYGvtdZR53k9DngPuBI4AYzWWi+pwhCFEEJ4WJXOoJRSBqXU3cBywLucTecBW4AI4B5gnlIqoQpCFEIIUU1U9Sm+ScADwOTzbaCUagZ0BCZqrS1a6x+BRcBdVROiEEKI6qCqE9QsrfUVwMZytmkJHNRa5xQb2wm0qdTIhBBCVCtVmqC01kfd2CwQyC01lgv4V3xEZcvOKyQtI6+qDieEEKIM1fE+qBzAr9SYP5BdVQH89McRZn62mahwf1o0DKdFo3BaN44gNioIo9FQVWEIIcRlrTomqD+BOKWUn9b6zDSmedF4lcjNL8TPx8yJ9FxOpOeyatNhAIL8vUlUdXhs5BUYDJKohBCiMlW7BKW11kqpzcALSqmnga7AUKBLVcUwvE9ThvZqwqHjWezYn8a2fWls25tGemY+p7MKXMnJZrPzzpdbadMkkvbN6hDkX97CRCGE8LzDhw/XmCo71SJBKaVGAu9orQOLhkYAs3HeA5UK3KW13laVMZmMBuLrBRNfL5jBXRvhcDg4lpZLvsXq2mbXwdMsXZvM0rXJGA2gGobTqWVdOreKJq5ukMyyhLgMpKam8vLLL7NmzRry8vKIiopiyJAh3H///ZjN1eJXrMvLL79MYWEh48eP5+jRo1x99dWsXr2ajIwM+vXrx4YNGwgODj5nv1tuuYV+/fpx++23V2m8Hvnpaa1XAqHFns8F5hZ7fggYXPWRnZ/BYKBeZECJsahwP26/uiW/6xP8uT+NHcnp7EhO58MlO4iO8OfFB7sTGVr6cpoQojZ59NFHiYuLY9myZQQHB7N7925Gjx5NYWEhY8aM8XR4JaSnpxMUFARATEwMmzZtAiAjI8OTYZ2XlDq6BBEhfozo25QXHujG3OcH8/RtnejXKZbgAG+sVjvhwb6ubb/+aR9/7k/Dbnd4MGIhREXbvHkzAwcOdM08mjZtyrhx4/Dz82PdunV07NixxPZ9+/bl+++/B+Dzzz+nf//+dOrUiREjRrB69WrXditWrGDIkCEkJiYybNgwNmzYAIDNZmPWrFn069ePpKQkHnnkEdLT0wFYt24dAwcOZMqUKXTo0IE+ffrw+eefAzBnzhwWL17MJ598wv3338/hw4dRSpGZmek65ocffkjPnj3p27cv//3vf8v8vAUFBbz44ov06tWLbt26MXHiRHJzSy+8rhjVa/5Zg/n7etG1bQxd28ZgsztIPZ3nWvF3Kiufd7/ait0BkaF+9Gxfnz4dY4mvd+5UWghxrmvGLjzva6P+0Y5BXeIB+HZtMjM/23zebRdPG+p6/K9XV7L3cMZ5X3fX4MGDeeyxxxgyZAhJSUl06NCBnj170rNnT9atW3fe/dLT05kwYQILFy6kadOmLFiwgMmTJ7Ns2TL27NnDww8/zKuvvkrfvn1ZtGgRDz74IKtXr2bevHksWrSIOXPmEBUVxX/+8x/GjBnDBx98AEBycjJdu3Zl7dq1bNmyhbvvvpuEhATuuOMOtNYEBQUxfvx4Dh8+fE5Mu3fvZunSpRw5coTbb7+d2NhYBg4cWGKbqVOnsmPHDj7//HN8fHx46qmnmDx5MlOmTPnLP7sLkRlUJTAZDdQNL3bblgOG9mpCZIgvqafz+GLlHka/soJHpq3kq1V7yc4r9FywQohLMmXKFJ566ikOHjzIk08+SdeuXbn11lvZvXt3uft5e3tjNpv57LPP2Lp1K8OHD2fZsmUYDAaWLl1Kly5d6N+/P0ajkWHDhjF79mxMJhPz58/noYceIi4uDl9fXx5//HE2bNhAcnIyAH5+fjz55JP4+PjQqVMnBgwYwDfffOPWZ3nqqacICAigWbNmXHfddefs53A4WLBgAU888QSRkZEEBQUxduxYvvzySywWy0X9/MojM6gqEBbsy53XtOL2q1uyIzmdVb8fZvUfR9h3NIPkrzPpmVgf/Lw8HaYQ1Za7M5tBXeJds6kLmTGm98UHVIzRaOTaa6/l2muvxWazsXXrVt5++23uvvtuXnrppfPuFxgYyAcffMA777zDrbfeiq+vL7fddhv33Xcfqamp1KtXr8T2iYmJABw9epTx48czceJE12tms5kjR45gNpuJiorC1/fs5YXo6OgyZ0tlfY7ix4yOjj5nBpienk5+fj533nlniUVgZ47fqFGjCx7nr5AEVYWMRgOtEiJolRDBPcNas/7P4xw5ke26VmW3O5jwzi+0a1qHAUlxhAX5XuAdhRCetHr1asaNG8eKFSvw8vLCZDLRvn17Jk2aRK9evfDy8qKw8OwZEofD4VqQkJGR4bqeVFhYyM8//8zo0aPp2LEjdevWZevWrSWO9frrrzNixAiioqKYOHEiPXr0cL22a9cu4uPj2bRpE2lpaVitVtcKwqNHj56T7Mpit9tJS0sjIiLCtV9MTEyJbUJDQ/Hy8mLBggUkJDjrd1ssFg4dOkRcXNxF/ATLJ6f4PMTLbKJb2xiu79/MNbZ1Typb9qTyf0t3cOe/lzP1/zay80C6B6MUQpSnY8eOmM1mxo0bx9GjzkpuJ06c4O2336ZDhw7ExcVhsVhYsmQJNpuNDz74gJwcZ5nR9PR07rrrLtavX4+Xlxd169bFYDAQEhLC4MGDWbt2LatWrcJut7No0SLmzp1LaGgow4YNY+bMmaSkpGCz2Zg9ezYjR44kPz8fgOzsbGbOnElhYSFr167lxx9/ZMiQIYDztGJ29vmL8kybNo3c3Fy2b9/O/PnzGTFiRInXTSYTQ4YM4ZVXXuHUqVNYLBb+85//cP/991fGj1dmUNVJmyaRTLqnC0t+2c+GP4+x+o8jrP7jCM3iQrmmR2N6tIvBZJK/KYSoLvz9/Zk7dy6vvfYa119/PVlZWQQFBdGnTx9mzpxJeHg4zzzzDFOnTuXZZ59l6NChdOjQAYBGjRoxadIkJkyYwIkTJwgLC+OZZ56hadOmALz22mtMmzaNMWPG0KhRI2bNmkVAQAD33nsvVquVkSNHcvr0aZo1a8Z7773nWkUYEBBARkYG3bt3JzQ0lJdffpkWLVoAzgUd//rXv/jnP//J1KlTS3wWk8lETEwMvXr1cl1b6tat2zmfedy4cUyfPp2hQ4eSm5tLu3btePfddzGZTBX+8zU4HLVr2bNSKh7Y/8MPP9SYu6XLcuJULkt/Sebbtclk5xUSHuzLf8f3x8tc8f8IhBC1w7p16xg1ahQbN5bXMKJ6OHz4MP369QNopLVOLmsbmUFVU1Fh/tx2dUtuGNCMFb8dxttsdCWnrFwLC1ft5ZoeCYQE+ng4UiGEqBySoKo5X28zg0utSlry834+/X4XX63ey+Au8Qzr1ZiIEKlYIYSoXeSCRg2UqKLo2KIuBRYbX63ayz1Tvmf2V1tJz8z3dGhCCA9KSkqqEaf33CUJqgZqFhfGs3dfyYwxvejSph6FVjuL1+zjnhe+45uf9nk6PCGEqBByiq8Ga9wglHG3d2b/0Qw+Wa5ZuzWFepGBF95RCCFqAElQtUCjmBDG3d6ZQ8ezaBB1NkG9u3ArdUL9uLpbI1n9J4SocSRB1SKxdYNcj4+mZrN4zT4cDvj6p/3cdlVLurePkR5VQogaQ65B1VL1IgKYcGcSsXWDOJ6ey8sfbeTx19ewM1kqUwghagZJULWUwWCgU8to3hjbm4eua0dokA/64Ckef2MN0+b+hk36UglR4xw6dMjTIVQpSVC1nMlkZOCV8cx+uj/X92+Gl9mI0WjAZJRTfUJcqltuuYX333//gtv973//o2PHjiQlJZVbC688O3bs4Prrr7+ofQGUUuzYseOi9/cEuQZ1mfDzMXPL4Bb8Lakh3uazf5fs2J9OVq6Fzq2iPRidELXbvHnzePrpp88pvvpXZGZmlqiMfjmQGdRlpm64P2FF7T2sNjtvfvYH//7fOib991eOpeV4ODohaqY33niDsWPH8sADD5CYmMhVV13laus+cOBADh48yKRJk3jqqacAmD9/PgMHDqRTp07cddddJU7dbdq0iRtuuIHExEQGDhzI8uXLSUtL45577iErK4vExESOHz9+wdbr77//Pj169KBz587MmjWran8gFURmUJcxAzAwqSFzl+1k447jbNl9kusHNGN47yayLF1UGynzXiBv7+9Vciy/xh2od+P4i9p36dKlvPXWW7z++uu8/fbbPPfcc/Tr149ly5bRt29fxo0bR//+/Vm+fDmvv/4677zzDk2bNmXOnDncc889fP3112RmZnLPPfcwZswYbrjhBjZs2MB9993Ht99+y7vvvluiEOzkyZPP23p95cqVzJw5kzlz5tC0aVP+/e9/V+SPqcrIDOoyZjIZGdKzMbOe7EfvDg2wWO18tHQno19Zyda9qZ4OT4gapU2bNvTu3RsvLy+GDBnCyZMnXb2fips/fz633norrVq1wtvbm3vvvZfs7GzWrVvHihUrqFu3LiNHjsRsNtOlSxc+/vhjQkJCSrzHhVqvL1myhCFDhtC6dWt8fHx44oknqurHUKFkBiUIC/Zl7Mgr6N8pjre/2MyRk9m8+P4G/vfMAHx95J+I8KyLndFUtTOdaAFXN1u73X7OdkePHuWtt95i9uzZrrHCwkKOHj3KqVOnzul+27p163Pe40Kt11NTU2nSpIlrPDg42NUvqiaR3z7CpV2zOrzxWB8++3EP0RH+ruRktzswGJCbfIWoAFFRUdx6663ceOONrrG9e/cSExPDsmXLOH78eInt33//fZKSkkqMXaj1elRUlKvDL0BOTg5ZWVmV+Kkqh5ziEyV4mU3882+KPlfEusY+X7Gbyf9bT+rpPA9GJkTtMGzYMObMmcPevXtxOBwsXryYoUOHcvz4cXr16sXx48dZsGABNpuNtWvX8vrrrxMYGIi3tzcWi4WCgoILtl6/9tprWbx4MZs2bcJisTB9+nRqYnNamUGJcuVbrCxas4/TWQVs25fK7X9vxcCkhhjlPiohLsqwYcPIzMzkwQcf5MSJE8TFxTFz5kzi4+MBmD17Ni+++CIvvfQSdevWZdq0acTGxhIREUGLFi1ISkri008/Lbf1elJSEk8//TSPPvoomZmZXHfddYSGhnr2g18EafkuLigtI4+3P9/Cuu3HAGjbJJLR17cnOiLAw5EJIWoqd1q+yyk+cUERIX6Mv6MzT9zckeAAb7bsSWX0Kyv4+qd92KVkkhCikkiCEm4xGAz0SKzPW0/0pXu7GPItNn7afPTCOwohxEWSa1DiLwkJ9OHJWzvRY8tR4mOCXdeicvML8fMxy0o/IUSFkQQlLkrXtjGuxw6Hg5c+2IDd4eDhGxKJCvP3YGRCiNqiShOUUqodMAtoC+wD7tRabyhjuyuB1wEFnARe0lr/typjFe47np7L3iMZZOZYGP3KCu4Z2oZ+nWJlNiWEuCRuJSillB9wP3AF4IWzjJuL1vqCNeCVUt7AQmAG0BMYASxXSjXUWmcW285YtN1YrfVHSqlOwBql1Aat9Wb3PpaoStERAbz5eB9mLtjMuu3HeO3TTfy6LYVR17UjLMjX0+EJIWoodxdJzAYmA35ALpBT6ssdvQEvrfUMrXWh1noesB24odR2YUAUYFBKGQAHYAUsbh5HeEBYkC/j7+jMmH8m4u9rZt32Yzw0dQVrt8pCCiHExXH3FN8g4Cat9cJLOFZLoHS3rJ1Am+IDWus0pdSbwAfAHMAEPKK1rlmdti5DBoOBvh3jaNO4Dq99+jubd6ey90gGXdrEXHhnIYQoxd0ZVCGw6xKPFYhz9lVcLlDiinrRKb584CacM7bewLNKqb9d4vFFFakT5sfz93bl0Zs6cEN/5RrPybu8mq0JIS6NuwnqVeAlpVSdSzhWDs6EU5w/ULr/8XCgm9Z6XtGpwFXAe8B9l3BsUcWMRgN9rojFq6h7b0Z2AQ++/APvLtxKQaHNw9EJUTGUUrRr147ExEQSExNp164dffr04e233/Z0aJXi8OHDKKXIzMy88MYVwN1TfNfjXHl3TCmVRanrQVrrKDfe409gTKmx5sCHpcZiAZ9SY1acszhRQ23bm8bpbAuLVu9jkz7J2Js60LhBzasNJkRp8+bNo0WLFoCzvcYvv/zCAw88QKtWrejZs6eHo6vZ3J1BvQncC9wJPAI8XurLHStwLnwYo5TyUkrdiDPpfVlqu+VAK6XUvUopg1LqCuAe4BM3jyOqoW7tYnjl4R7UrxPIoeNZjH1tNfO/34XNdm6/HCFqKqPRSPfu3UlISGD37t0A2Gw2Zs2aRb9+/UhKSuKRRx4hPT3dtc+KFSsYMmQIiYmJDBs2jA0bnHfe5OTk8Pzzz9O9e3e6du3K448/Tnp6Ona7nd69e7taygNorUlMTCQnJ6fcVvBffPEFN954IzfeeCNJSUns3LmTjIwMnn76abp160avXr2YPn06VqsVcCbc6dOnk5SURLdu3fjiiy+q6kcJuJmgtNYfnPnCmVAWlhpz5z0swGCcy8vTgfHAMK31SaXUOKXU9qLttuM8zXcfcBr4GHjqEhdoiGqgaWwYMx7txd+7N8Jmd/B/S3fw1MyfOJpa+iyvECVd/+kDXP/pAyXGXlrzFtd/+gAbj2xxjX2/dw3Xf/oA72yY6xpLzzvN9Z8+wH0Lnyqx/5PLp3D9pw+wL/1AhcVptVpZsmQJe/fupXPnzgB8+OGHLFq0iDlz5rBq1SrCw8MZM8Z5Mmn37t08/PDDPPzww/z222/cfvvtPPjgg+Tl5TFx4kR2797NV199xfLlyykoKODxxx/HaDQyZMgQFi9e7Dru4sWLGTBgAAEBAUydOpVt27bx+eef8+2335KWlsbkyZNd227atIkHH3yQH374AaUUTz75JDk5OSxbtowFCxawfv163nnnHQA++eQTvv76axYsWMCyZcvYvn17hf2s3OH2jbpKqQeAcUBM0fMTwGta65fcfQ+t9TagexnjU4ApxZ4vAZa4+76i5vD1NnPftW3p3DKaGfM2sfPAKVJP5xETGejp0IS4KDfddBMmkwmLxYLVaqVLly689dZbtGnjXKA8f/58Ro8eTVxcHACPP/44HTt2JDk5maVLl9KlSxf69+8POFtxNGzYEKvVyrJly5g7dy6RkZEATJgwge7du3P8+HGGDRvGtddeS3Z2NgEBAXzzzTe88MILrlbwH374oWu/sWPHcvXVV/Pcc88BEBYW5jr1mJqayooVK/j5558JDAwkMDCQUaNGMW7cOEaNGsWSJUu4+eabXbH/61//YuXKlVX1o3X7Rt3HgAnAC8BPOG/U7QY8pZTK01q/VnkhitooUUXx5uN9+G3nCdo2Obv2Jr/AKm3mxTnm33DuooOnejx4zlj/xj3o37hHibFwv9Ay9//P38ZVSGwff/wxLVq04MSJE4wdOxYfHx+6du3qev3o0aOMHz+eiRMnusaKt2Yv3eI9MTGREydOUFhYSEzM2Vs06tSpg7e3NykpKbRv3x6lFN9//z3169fHbrdz5ZVXXrAVPDg7+haPDWDQoEGuMYfDQWFhIQUFBaSmphIdHe16rapbGLn7m2AUcL/Wuvh1oJ+VUgdw3sArCUr8ZUH+3vTucPYf/ObdJ3n5/zbywIi2dG9X34ORCfHXRUVF8cYbbzB06FCmTJniSkhRUVFMnDiRHj3OJs5du3YRHx/PH3/8wdatW0u8z+uvv86IESPw9vbmyJEj1Knj/APu+PHjWCwWIiIiAOdsa+nSpURHRzNkyBCMRuMFW8Fv2rSpROKKiorCaDSyZs0a/Pyci6yzs7NJS0vDx8eHqKgoV2I7E0NVcneRRB3gnJp5wG+AdAUUFWLV74fJzLHwnw838spHv5GdK8VDRM0SGhrKCy+8wMcff8xPP/0EOBPJzJkzSUlJwWazMXv2bEaOHEl+fj6DBw9m7dq1rFq1CrvdzqJFi5g7dy6hoaEMGTKEadOmkZaWRnZ2Ni+88AKJiYnExsYCcPXVV/Pbb7+xfPlyhg0bBnDBVvClRUdH07lzZ1566SVycnLIzs7m6aef5plnngFg+PDhfPTRR+zdu5ecnBxmzJhRBT/Fs9xNUNuA68oYvwFnNQghLtno69vz4Ii2+HibWLXpMKOmruC3nVX7F5sQl6p79+4MHz6cCRMmkJ2dzb333kuXLl0YOXIknTp14scff+S9994jODiYhIQEXnvtNaZNm0bHjh354IMPmDVrFgEBATz99NM0btyYoUOH0rt3b0wmE2+++abrOCEhIXTt2pWYmBgaN27sGh83bhzR0dEMHTqUrl27kpyc7GoFX5Zp06aRnZ3NgAED6Nu3LwaDwZWIrr32Wm666SZuueUW+vbtS/PmzSv3h1eKWy3fi6o4fAMsBdYWDXfBWQJpuNb660qL8C+Slu8139HUbGZ8sokdyc6luAOvbMid17TC39fLw5EJISpKhbV811ovB/oBBcAtwD+ATKBTdUpOonaIiQzkxVHduf3qlphNRtZtP0ahVe6XEuJy4/ZyKa31amB1JcYihIvJaGBE36Z0bFGXjJwCQgKdxUUKrXZsNrus9BPiMnDe/8uVUvOBu7XWmUWPz8udflBCXIyG9YJLPP/0O83qTUd4+Ib2tG4c6aGohBBVobxTfDk4ezGdeVzelxCVzmqzs3HncVLScnj6rZ9554st5BVYPR2WEKKSnHcGpbW+o9jTZ4HDWusSFwKUUiagfSXFJkQJZpORqaN7Mv/7XSz4YRdf/7yf9TuO8/B17WnX7FIK7QshqiN3l5nvByLKGI8D1lRcOEKUz8tsZOSg5kz/Vy8SYkI4kZ7LM+/8whvz/6DQKm08hKhNyrsGdSdw5u4uA7BMKVX6fEo0kFw5oQlxfgn1Q5j2r558/uNu5n23i9SMPMwmd//eEkLUBOUthfoUZ5UIA9AR+IGSzQUdRc8/q7TohCiH2WTkhgGKrm1j8PE2uUq4pKTm4O1lJCKkdH9MIURNUt41qBzgeQClVDIwT2tdUDVhCeG+2LpBrsd2u4NXP/md5JRMbru6JYO7xGM0GsrZWwhRXbl1M4nW+gOlVKJSqiVwpl6GAWfn2yu01tKOXVQL+RYrwQHe5BVYmfXFFlb8dogHR7QjoX6Ip0MTQvxF7rbbGA/8G+cpvQAgAzjzf7z0bRLVhr+vF+Pv6MzarSm88+VW9IFTjHl1JX/vnsDIQc2lXJIQNYi7V5XvAx7XWgcDKThbtdcHfqXsKudCeIzBYKBr2xjefrIvQ3o4Ww4sWrOPMa+ukhbzQtQg7iaoaODzosd/AF201seAJ3DW5hOi2vH39eKeYW2Y/q9eqLgw+neOwyQr/YSoMdwtaHYS531QycAuoB2wADhCUQt4Iaqrxg1CeXl0D+zFKvcv+zWZ5KOZ/HNgc4IDvD0YnRDifNxNUAuB2Uqpu4AVwEyl1HfACOBAZQUnREUxGg0Yca7msxTa+L+lO8jItrDy98PcNLA5g7vGy31UQlQz7v4f+RjOa02tga+BH3HeF3Vb0WtC1BjeXiYm39+Ndk0jyc4rZPZXWxn9ygrW/3kMd/qjCSGqhlsNC8uilAoE8rXW1apapzQsFO5yOBys336M9xZvJyXVWfO4TeNInry1o6u9hxCicrjTsLC8UkdXuXMQpRRaa1lqLmocg8FAUut6dGhel6W/7Gfed5qsXAuB/nJNSojqoLxrUO52ynVw9uZdIWocL7ORIT0b07dTHKcy8zEVVZ44kZ7LZz/u5oYBzaRskhAeUF6pI7liLC4rgX5eBPqdvZH34+U7+WHDIb7fcJDBXeL5R9+mhAX7ejBCIS4v7laS8C/vda11bsWEI0T1MaJPU/ILbPy85SiL1uzj218PcFXXeIb3biKJSogq4O4y82zOdtcti5ziE7VObN0gnrqtE/uPZvDxsp38uu0YX63ay5Kf9zPqunb07Rjn6RCFqNXcTVB9ytivMTAWeLJCIxKimmkUE8L4O5LYc+g0n36vWb/9GAn1Q12vF1rteJnljLgQFc3dauaryhj+QSm1B5gKfFWhUQlRDTWJDWX8HUmcSM8lKvzsWe9nZv1McIA3w3s3pXl8mKsvlRDi0rg7gzqfo0DLighEiJqieHI6lpbD7kOnKbTa+XXbMZrFhTK0Z2O6to2RyhRCXCJ3F0mUdU9UCM5TfJsrNCIhapDoiADeGz+AxT/t49u1yew6eJqpH/1GZMh2BnWJ55oeCdLiQ4iL5O4Mqqx7oiw4yx89VHHhCFHzhAX7cutVLbm+fzNWbDzEwtX7OHIymy9W7mFIz8aeDk+IGsvda1AVcq5CKdUOmIWzn9Q+4E6t9Tn9pJRS9YC3cS7OyAdma60nVEQMQlQWX28zg7s2YuCV8WzefZKTp/Pw83H+L5ZvsfLM27/QrV0MfTvGSiklIdzg9jUopZQJ6I+zYKwNZ1+oVVprt4r5KaW8cVZFnwH0xFkJfblSqqHWOrPU5guB34C6QD1glVJqh9b6Y3fjFcJTjEYDiSqqxNjarSnog6fQB0/x4ZI/6dQymn4dY7miRV25ViXEebh7DSoe+BaIx9lewwjEAVuVUldrrY+78Ta9AS+t9Yyi5/OUUg8BNwDvFjtWEpAAdNNaFwL7lVK9gTx3YhWiOurZvj5+PmaW/XqA33ceZ+3WFNZuTSEk0Jse7epz94lb7M8AACAASURBVNDW0kxRiFLcnUG9A+wHemqtTwAopaKBD4GZwD/ceI+WwI5SYzuBNqXGrgC2As8ppW7HeYrvLa31NDdjFaLaMZmMXNm6Hle2rkdaRh6rfj/M9xsOcuh4NjsPnnIlJ4fDwcFjWcRFB8lydXHZczdBdQM6n0lOAFrrY0qpscDPbr5HIFC6JFIuULqMUjjQA1iFcybVHPhWKZUip/hEbRAR4sfwPk25tncT9h7OIM9ytmPNgWNZjH5lBfUiA+jWNoYuberRpEEoRqMkK3H5cTdB7cc5A/qz1HgDnPdCuSMHKF0S2h9nGaXiCoBMrfVzRc83K6X+CwwHJEGJWsNgMNAkNrTE2In0XEICvUlJzeGzH3fz2Y+7CQ/2Jal1NJ1bRpPYrI6cChSXDXcT1AzgLaVUM+AnwAp0AJ7B2QredZ9UOb2h/gTGlBprjvM0YXE7AX+llLfW2vIX4xSiRuvcKpoPJg5k2740ft2awq/bUkjNyGfpL8ms3nSEuZMGubY9lZkvRWtFrebuL/4zixgml/HaM8Uel9cbagVgUEqNAd7EuYqvLfBlqe2+A04C04pOISrgLuABN2MVokYzmYy0a1qHdk3rcO+1bdh7OINft6eAA9fsKa/Ayp2Tl1Mn1J/2yrltm8aRBAdIs0VRe1TZfVBaa4tSajDO+6CeB5KBYVrrk0qpccBIrXUrrXW+UqoX8AaQgnORxMta688vNQYhapozpwFLnwo8cjIbX28zKWk5pPySw9JfkjEYnIVtWydEMKxXE+qESZNFUbMZHA63bmMCQCnVD2iFc5n5DuAHrbW1/L2qVtGS+P0//PADDRo08HQ4QlQam93B7kOn2Lz7JFt2p7IjOZ1Cqx2A9yf+zdUF+Pv1B7A7oHnDMBpEBcmCC1EtHD58mH79+gE00lonl7WNu/dBReOsWN4B58zHADQEdiql+hdf3SeEqBomo4HmDcNp3jCcG/orCgpt7ExOZ//RjBIt6j/7cQ9HTjrXIvn7mmnSIBTVMIzGDUJp3jBM2tmLasvda1Cv4VwY0UhrfQRAKRWDc1XddODmyglPCOEuHy+T69rVGQ6Hg6u6xvPn/nT0wVOkns5jy55UtuxJBeDGAYqRg5oDcPRkNjuS02kUE0KDqEC8vaQPqfAsdxPUIKDPmeQEoLU+WrSI4btKiUwIcckMBgNDejZ2Fa1Nz8xn98FT7Dp0mj2HT9OiUbhr2407jvPuwm0AGA1QLzKQhvWCiI0KokHdIHol1pebh0WVcjdB5VN2y/fyVu0JIaoZ5z1V9UhqXe+c16IjA+jWLobkoxmkpOZw5GR20anBFEKDfOjd4ew13Wlzf8PP10y9iADqRQZQLyKAuuH++PrIHSGi4rj7r2k5MF0pdeOZuntKqbrANGBZZQUnhKg6nVs6bwYGsBTaOHwim+SUTA6fyCqxsKLQamP1psPYy/iTNTTQhzuHtKLPFbEAHE3N5vCJbCJD/IgM9SPI30tmYcJt7iaox4EfgQNKqQNFYw2BLcBNlRGYEMJzvL1MJNQPIaF+SBmvGphw15UcOZnNsdQc51L31BxOnMrldHZBiWtXv249xpyvt5d434hgX8JDfIkK8+PRm65wvbbzQDq+3mZCAr0JDvDBJKsNL3vu3gd1TCnVFue1qJY4K4vv0Fp/X5nBCSGqHy+zkY4t6tKxRd0S43a7g/TMfAL8znYQjgz1pYOKIjUjj7TTeeTkW50JLS2H4yElq2BMmbOeU1kFgPMaWFCAM1GFBHoz6Mp4ehWdYjyensv2fakE+nsT5OdNoL8XgX5eBPp74WWWKw61idsnjLXWVqXUbsAHZz+ovZUWlRCixjEaDUSGllyy3jOxAT0Tz167ys0vJD0zn7SMfNc9W+BcbRgXHUSgvxenswrIyi0kI9tCRraFQ8chqdXZa2Y7ktN59ZNNZcbgbTby4XODXEny/a+3cywtF39fM36+Zvx8zPj7OL/HRQfTKiECcJ7STEnNwcfbhK+3GV9vE95eJrlnzMPcvQ8qHFiAs6eTBed9UF5KqcU4K0DkVFqEQohaw9/XC39fLxpEBZUYNxgMTL6/m+u51WYnM8dCRnYBmTkWoiMCXK9FhvjS+4oGZOcWkpVrITu3kJy8QrLzLFis9hILNTbvSWXPodNlxtK/U5wrQR05mc3D01aes4232YiPt4lJ93ahaWwYAF+u3MPGHcfx9jLhZTbiU/Tdy2ykbngAw/s0ce2/aM1ezCYjZpPRtc2Z5w2jg13VPjJzLKRn5mM2GTCbjJiMRswmAyaT87ufj/myvHb3V/pBhQAdtNabAZRSHXDW6HsNuLtywhNCXI7MJiPhwb6El1EMt3XjSFo3jjxn3OFwUGCxlbh2dfeQ1qRn5pObbyWvoJC8fCu5BVbyCqy0iA8vsX9s3SDyLVbyC2wUFNqwFNqwWO1YrHZMxrPV3g4dz3LdR1Zak9hQV4Ky2x28+9W2837GUf9ox6Au8QD8vPkIb32+5bzbLnpliOvxozNWkZySiclowGQ0YDQaMZkMGA0G+nWK5darWgJwICWTlz/aiNFgwGh0fpmKPR59fXvq1wl0vv+avWzSJzEZDRgMztmwweB8z5jIAG4e3ML1md5c8AcGg4EbBjQjKqx0t6SK5W6CGgj0OpOcALTWvyul7se5wk8SlBDCowwGwznL3M/MkC6kUUwIbz3Rt8SY3e7AUuhMVsWvq43o25ReiQ0osNooLLRjsTqTWaHVTpD/2WK9DoeDa3okUGi1Y7XaKbTaKbTZsNkcFNrsJWolBvh5ERcdhM1mp9DmwGazY7M5sNrsrs92RuGZ9yrjc+TknR3Ns1g5eCzrvJ+5wGJzPd5/JJONO8pujN4sLtSVoBwOB9+tPwjA37s3grDzvn2FcDdBnQTK+i/tDZz/JyCEEDWU0ehMeKWTXv06ga6ZR3lMJiP3DivdMLxspa/VlWfGmF7Y7A7nl82Oze7AXvTcx/vsIpH4esG88VifotfsOBy4trM7HNSLPHvadEjPBLq0qYfd4XwvhwPX40D/s8nZYHDOvBwOR5WUyHI3QY3H2ffpGUr2g5qGs09UyzMbaq1LNzUUQghRQUwmIyY3Fiv6epuJrxfs1ns2igmhUUxZtxSUZDQa+FtSQ7fesyK4m6DOdLL9iLMVJc7MOacALxQ9l8oSQgghKoS7CapRpUYhhBBClOLujboHLryVEEIIUXEuuVOuEEIIURkkQQkhhKiWzpuglFKtlVKSwIQQopLZ7DZyLLnkWHJdYw6Hgz1pyew8WbKq3I6Tu/npwHrSck+5xpJPHearHcv4I+VsYd4cSy7v/z6feVsXltj/4y1fMf2XdzmefdI1tmr/rzy/YgYr9691jR3OSOHJZVN4be17JfYf//3LjFo8noz8zEv70G4oLwH9AsQAKKV+VEqFVno0QghRzTgcDuyOs3UDU3PT2XZccyzrhGvsVF4GX/y5lOV7VpfYd+a6D3hh1etkF5ytBjd385fcu/BJVu3/1TW2KWUbd3w5ljfWvV9i/3Hf/4eJP75S4vgLd37H67/OYf+pg66xPen7+XjLV/x6+GyNQoutkCW7V/DDvl9KvOeWYzv49dDvZBWL6WRuGttOaI5np5bYf//pQxzJPFZi/9TcdE7mpmOz26ls5S2SKADuVEqtwlmDr5dS6lRZG2qtV5c1LoQQ1U167mn2njpAiE8QzSITAOds43+/f4rBYOChpNtd2z7343R2nNzDC/2foElEPAAr9//K/G2LGd5yEDe2GQpARn4W87YuIi6kPn9r0tO1/58ndnEyN51caz6BPs4bYwusFk7nZ5JTeHa25G3yxs/LF29jyZtim0Y0woABu8PBmQpOLes0wc/sQ6jv2fuW4kNjGdJ8AE3C411j/l5+3Nr+H/iafUp8/hvbDCWnMIe6gWfLRXVv2JlmEQklxuoHR/PSgKfwKbX/v/s9Dg4HIb4l6ylWhvIS1CRgKvAczvubvjzPdnLvkxCiSjkcDgrtVrxNZ3+hL921gtP5mVzf+u+YjM5fSf/d+Ak/HdzA/Z1u5srYDgBsO6F5c937dI/r5EpQRoORNQfW42P24aGks8cxGAw4cJBvzXeNRQdG0qJOUyL8ztbyC/cLYViLgUT4laz9c1+nm7E77IT4nP1lfl3rqxnWciCBXmfr2LWNbsEHw18953O+0P+Jc8aGNP/bOWNNIuJdCfQMH7M3f1f9ztm2fb2W54xFB9YhOrDOOfsnhJ97U25UgHvloyrCeROU1vpNpdRMwB9nOaPGwInzbS+EEBUt+dQhdpzcQ6OwWJrXcRZh3Z22n+dXzCA+LJZ/93vMte1n278hy5LD4GZ9CPV1VlCwOezkFuaRWXC2Ilt0YB06xLShUVica8zX7MOozrcR4O2Hw+Fw1b57sseDeBnNroQHztlG94adS8QZ7BvETW2HnRN/2+gW54wF+Vy4TJJwKvc+KK21A8hRSjUCDgK+QFOc1672aq2lDp8Q4i8rsFpIy00nJjjaNfbeb/PYfmIXD195B/Fhzpbxv6dsY97WRQxpPsCVoAK8/SmwWUosKAC4qllfHIDZcDaZ3NR2KCPbDsPf+2zduGaRCTzV48ES+xoMBno1uvKcOEufHhNVy91KEoeBl4BHcBaIBbAopd4HHtJaWyshNiFEDZdtyWF32n6MBiPtop2nlvKtBdz2+RhMRhMfjXgNY1Eri7TcUxzOTOF4TqorQTWLSGBA4x6oyMau94wOqMP7w6fjZy7ZimNEq6vOOb7MVmo2dxPUC8DNwK04i8UagG7AK8DEoi8hxGUs+dRhthzfQZPweFpGNQVg/6lDvLh6JiqysStB+Zp9iPAPw8tkJrswl+CiJHJjmyFc3/oa6gVFud6zdV1F67qqxHGMRiP+xsqvpC08z90EdStwt9Z6SbGx+UqpLGA2kqCEuKxsStnGnyd2M6BxD6KKVn5tStnGJ1sXclXTPq4EFRtcj1ZRzWgaUbKc55t//zdGQ8m7XOJC61dN8KLGcDdBBQJ7yhjfB5zb2lIIUSs4HA42pWxn36kDDG852JVUvt/7ExuObCYupL4rQbWKasbfmvSkTbGFAaF+ITzbZ8w571s6OQlRFncT1AZgFM5rUMU9BPxWoREJITzC4XBwLPskx7NTXUuRDQYDszfOJT3vNF1ir6B+0aKGbnEdiQ2JIS40xrV/s8gE17JtISqCuwnqSWClUqo3cOb25yuBeGBQxYclhKhsDoeDAmsBvl7OxQbpead5ZMmz+Hn5MmfYNNfihT6NumKxWfAqds9R17iOdPVI1OJy4m67jY1KqUTgXqAVkAcsBmZqrVMqMT4hRCXYm36A6b+8S3RgHSb0dp4YifAPo0l4POF+oeQW5rkqH9zQ5hpPhiouY+7OoNBa7wYer8RYhBCV4ER2KmsOrCfcL5Q+Cc55Tx3/cE7mpGGz27Db7a7Z0pQBT3oyVCFKcDtBVQSlVDtgFtAW5wKLO7XWG8rZPhTYAkzUWr9fJUEKUcNZbVYKbBYCvJ2ldA5mHOXTbYtpGh7vSlDBvkFMGzSB+sHRsmBBVFtV9i9TKeUNLAQ+BUJx3lu1XCkVXM5uswBZeyqEm346sJ67Fz7BZ9vP3hHSpm5z+id059qWg0tsGxsSI8lJVGtVOYPqDXhprWcUPZ+nlHoIuAF4t/TGSqnbgGBga5VFKEQNYrXb2HzsT8J8Q0gId9aVi/QPJ7cwj6NZx13b+Zi9ubfTSE+FKcRFq8oE1RLYUWpsJ9Cm9IZFtf+eBboC31Z+aELUPIt2Lmfe1kX0jE9ytYhoFpHAjKueIyaormeDE6ICuJWglFJ1gGeAKwAvnKWOXLTWncvar5RAILfUWC7OaunFj2UCPgIe01ofU0ohxOUuLfcUq5J/JT40lg4xrQHoGnsFPx/YQEKxqtxGo1GSk6g13J1BvQck4UwcF9vnNwcoXUDLH8guNTYB0FrrLy7yOELUOhuPbGHe1kW0rdvClaCig6KYNliqjInay90E1RMYqrVedQnH+hMoXfOkOfBhqbEbgRil1PCi50HAW0qpzlrrBxGilkvLPcXyPauJCarragHRLa4jO1P30Cu+i4ejE6LquJugTgEZl3isFYBBKTUGeBMYgXO5eYlOvVrr5sWfK6X+AGbIMnNxudCpe/lyx7fEhdSnZ3wSBoOBQJ8AHulyl6dDE6JKuZugJgJvFiWX3YCl+Ita69LXls6htbYopQbjXDr+PJAMDNNan1RKjQNGaq1b/ZXghajpLFYLqw+sxwD0a9wdgM7129M/oTs945PK31mIWs7dBDUd571Lv57nddN5xkvQWm8DupcxPgWYcp592rsZoxA1zq60fczeOJcQ32B6xifhZfLCbDLLsnAhcD9B/aNSoxDiMnEs+yTJpw5xZWwHAFpFKXo07Ez76FYY5KZZIUpwt1jsKgCllB/QFGcFir1a66xKjE2IWuVkThr/WvIcXkYzraKaEeQTiMFgYPSVd3g6NCGqJXfvgzLhPAX3CGfvg7Iopd4HHtJaWystQiFqsPS804T7hQJQJyCCDvVaE+gdQKFd/pcR4kLcPcX3AnAzztbvP+FMUN2AV3AuoJCbMYQoxu6wM2Pte2w4spnXBj/n6jr7WPf7pP6dEG5yN0HdCtyttV5SbGy+UioLmI0kKCFKMBqMeBu9MBqM7ElPdiUoSU5CuM/dBBUI7CljfB8QWXHhCFEzpeak89n2bxjcrA8NQxsAcFPbYYxsdy1hfiEejk6ImsndP+c2AKPKGH8I+K3iwhGiZlqkv+PH/b/w6bavXWPh/qGSnIS4BO7OoJ4EViqlenP2XqgrgXhgUMWHJUT1ZrEVklWQTYR/GAAjWg4mrzCf4aV6LgkhLp5bMyit9UagA/AdEIvztN5ioLnWem3lhSdE9ZN86hBjlk7i9V//h8PhACDEN5hRSbdRLyjKw9EJUXu43Q9Ka70LeKwSYxGiRogKiCTfWkC2JZcsSw7BPoGeDkmIWum8CUoptR4YqLU+pZTaADjOt62b/aCEqJFO52Xw/b6fGd5yEEaDEX9vPyb1eZR6QVGYjG5V+RJCXITyZlDfAAVFj78uZzshai27w85zK17laNZxIv3D6N3I2e6iQUg9D0cmRO133gSltZ5U7OkKYK3WurD4NkopH+CqSopNCI9xOBwYDAaMBiPXthjE2sO/oyIbezosIS4r7l6DWgFEAydLjScAH3Nup1whaqRTeRl8+MdntIpS9C9qf9EzPsnVOFAIUXXKuwb1AHBmFmUA/lRKlb4OFQhsqqTYhKhyf57cxc8HN7Lz5F56N+qC2WjCYDB4OiwhLkvlzaDeBXJwLkX/H/BvSnbVdQDZwA+VFp0QVSDXkoe/t/MkQNfYjhzNPE6vouQkhPCc8q5BWYEPAZRS+4FfgCCtdXrRWCdgk1QyFzWV1W5j7uYvWX1gHdMHTSDENxiDwcB1rf/u6dCEELhf6ugkoIGni40tBrYqpeTKsaiRTAYjhzOPkm3JYdsJ7elwhBCluLtI4g1gDWevSQE0At4G3gSkvouoETLzszAajAT6BGAwGLin40iyC3JICI/zdGhCiFLcnUF1Bp7XWmefGdBa5wGTcfaFEqLa23JsB2OWTmLOpvmusaiACElOQlRT7iaodKB1GePNAGn7LmqEqIAICmwWTudnYrEVXngHIYRHuXuK77/AbKVULLAR5wq+DsAE4L1Kik2IS+JwONhxcjcto5oBEB0UxYsDnqJBcD1ZOi5EDfBXWr6bcSakOkVjJ4BXgamVEJcQl8ThcPCfNW/xe8o2xvcaTbvolgDEhsR4ODIhhLvcSlBaazvwLPCsUioSsGitMys1MiEugcFgoHmdJuxOT6ZQTucJUSO53W5DKZUItARMRc8NgA9whdb6vsoJTwj3nchOJduSQ0J4QwCuUf3p26grwb5BHo5MCHEx3EpQSqnxOCtJZAMBOCtKnOllvaRyQhPCfXvSkpm0cgahvsFMHTgeX7MPJqNJkpMQNZi7q/juAx7XWgcDKUBboD7O9u8bKik2IdwWH9qA6IBIEsLisNqluIkQtYG7CSoa+Lzo8R9AF631MeAJ4JbKCEyI8jgcDn45uNG1XNxsMjOp71jGdL2bQO8AD0cnhKgIf6XUUUTR411Au6LHRwBZFiWq3Jzf5zNj7Xss2Ha2l+aZgq9CiNrB3QS1EOd9UO1x9oa6VSnVC3gUOFBZwQlxPt0bdiLIO4C4kPqeDkUIUUncXcX3GDAdZzWJucAInG02soGbKic0Ic7KzM9iR+oekhokAtAsMoGZ17yAr9nHw5EJISqLuwlqBDBea51W9Px2pdRDQL602xCVLduSw9hlk8kuyObFAU8RHxYLIMlJiFrO3QT1OrAeOJOgKF441l1KqXbALJyrAPcBd2qtz1kFqJQaALwENMVZsWKq1vqdv3o8UTsEegdwZYNEjmQeI8Db39PhCCGqiLvXoNYB117KgZRS3jivZX0KhOIsn7RcKRVcartYnCsGJxdt90/gRaXUwEs5vqhZNqVs42jmMdfzW9uP4JneD1MnIKKcvYQQtYm7Myg7MEUp9QywH8gr/qLWurMb79Eb8NJazyh6Pq/oNOENONvLnxEPfKy1/rLo+Qal1EqcbT2WuRmvqMFW7l/LW+s/pGl4PM/3ewyT0YSXycvTYQkhqpi7CWpd0delaAnsKDW2E2hTfEBrvQZnc0QAlFLhQA/g/y7x+KKG6FS/HdGBdUiKTcSAVB0X4nJ13gSllDIWFYlFaz3pfNv9BYFAbqmxXOC8FxWUUiHAIpzJcWEFxCCqobzCfH7Y9xNXNeuL0WAkwNuf6YMmYja5XSpSCFELlXcNqlApFVV8QCnVUyl1sUuncoDSd1L641yqfg6lVDOcpZSOA/84kyxF7eJwOJi88jU+/ONzlu9Z7RqX5CSEKC9BlXVu5WucNfguxp+AKjXWvGi8BKVUT5yzpq9wJqf8izymqOYMBgNDWwykUVgsLes09XQ4Qohq5K/+mXopFwRWAAal1BjgTZz3VrUFviy+kVKqMc5EOF5r/cYlHE9UU1uO7SDbkkvXuCsA6NygPR1j2mI0uruoVAhxOaiy3whaawswGGdiSgfGA8O01ieVUuOUUtuLNh0FBOFcWp5d7Os/VRWrqDx70pKZvOp13tn4Eem5p13jkpyEEKVV6Yl+rfU2oHsZ41OAKUWPH8VZ40/UQo3DG9Il9goahtaXXk1CiHJdKEHdrpQqvojBDNyslEotvpHW+q0Kj0zUCpn5WXy8dSE3tr6GUL8QDAYD/+pyFwaDLB8XQpSvvAR1EHig1Ngx4I5SYw5AEpQo05xN8/n54EYsVgsPd7kTQJKTEMIt501QWuv4KoxD1FIj215Lga2QG9pc4+lQhBA1jFyZFhXGarfx1Y5lzFz3gWssMiCcJ7rfT93AOh6MTAhRE0mCEhXmdH4Gn/+5lFXJv5J86pCnwxFC1HByu764JLmFefh7OQuERPqHc1eHGwj3C3X1bBJCiIslMyhx0VbuX8uor5/h96NbXWO9G3WhbXQLD0YlhKgtJEGJi5ZtySHHksv6w394OhQhRC0kp/iE207nZ5Kak06TiHgABjXtQ3RgFFfEtCl/RyGEuAgygxJuST51mEe+eZZXf3mXAqsFALPRRMf6beW+JiFEpZAZlHBLXEgMUQERRPiHkVeYh4/Z29MhCSFqOUlQoky7Uvfx1c7ljE66HT8vX4xGI5P6jsXfu3RLLyGEqBxyik+cw+Fw8OEfn7PxyGaW7PrRNS7JSQhRlWQGJQBIzz2Nt8mLQJ8ADAYDN7cbzh/HtjG4WR9PhyaEuExJghKs2v8rs3/7mL817sltif8AoHmdxjSv09jDkQkhLmdyik/QMLQ+VpuVzIIsHA6Hp8MRQghAZlCXncyCbBbt/I4CawF3XXEjAPFhsbx+9SQp6CqEqFZkBnWZybcW8I3+nu/2riEt95RrXJKTEKK6kRlULXfw9BF+T9nGsBYDAYgKiOC2xOtoEh5PhH+Yh6MTQojzkwRVixVYLUz44RXyrPm0rduChPA4AAY17e3ZwIQQwg2SoGqRfGsB6w//QfeGnTAajPiYvbmqWV9yCnMJ8Q3ydHhCCPGXSIKqRSZ8P5UDGUcI9gmkfb1WANJqXQhRY8kiiRrKYivkpwMbXIVbAbrEXUGziATMRvm7QwhR88lvshpq6k9vs/nYDkZ1vo1eja4EYFjzgQxvOdjDkQkhRMWQBFUDpOWe4ueDG+jRMIkwvxAArmzQgayCHAKK1cczGmvWhNjhcIDdhsNmxWGzOh/bbc7vDjs4HM6vMwwGMBid7T0MRgwmMxiNGIxmDGYzGM3S+kOIWkQSVA3w/qYFrDu8CTAwpPkAAPokdKVf4+5VHovD4cBhyceWn4U9Lxt7fg72/Bxs+dnYC3Kx5+c6vxfk4bDkYbfkYbfk4ygswFFYgL0wH4fVgsNaiMNaCA57hcZnMHlhMHthMHtj8PLG4OWD0csXg7cvRi9fjD5+zsc+/hi9/Zzfff0x+gRg8gvE6BuA0TcQo18gRmkpIoRHSYKqZtYkr2fF/l+4pf0IGoXFAtAr3nkKr3F4Q9d2RkPFzJYcdhv2vGxsuRnYcjKw5WYWfXc+tudmYcvLxJabhT03E1teNtitFXJswDkTMnthMJrAZHZ+NxgxGI3OGRMG53eHA3DOqBz2/2/v3KMkqeo7/qnunpnunp6d5bXLstmFhcCPs/IKsMgJCihy0GxOFMSgIG4OImgADQpHeYNmEUUeIYggEpGXeALLQ0TFGMJJYkBE3rA/DA8DsryW3Z1n70x3V/743Z6uaXbYmWWmu5n5fc7pU1W3blXfut1V3/rd+7u/WwnLElQqxJUScakElRJxeZi4PAzrB9550TLtpHIFE65cF+lcF6ncLNL5LtL5WaTys0jnukjnu0l32raLmuNMHi5QTSSOY17qWcXW8G157wAAEENJREFUha1oS7cBoKuf5YnXlP958aERgdp7/m7sPX+3CZy3QmWgl1LfGhOb/rDsW0u5f21IWzsiSBO1YqK2DlLZAulcJ6lsl1kg2WB9dOTDJ2cWSnvVeskRtXeQausw6ybTXhOmSSKOK9ZcODxkVtrweipVy22oSDxUDBZdsO4SFl85WIKV9f0m2IN9xKUhyr1vUu59c/x1054j3dlNOj8rCFdY76yu2zKV7yad75rU63ec6YYLVBP59n99j4defpzT9z+JPeYtBuBD27+PHTdfxF7zdx2Vd8TSGRGYdZSqwtO/lnJfVXRs/0REJ5UrhIfobHuAVq2D6oM1P6tmQeS7WtZKiKIUUaYdJqF8cRybsA32Uh7sC8veOquyx6zKxCceGqQ0NEhpzSvjKTGpYI0lxav6G5iQJX6DbCfRJFnOjvNuwAWqQdy58lc8vOoJvvyXn6Oro0AcxyzonMMzbXneWKX099jDr3ugh/f0r2Pg0fvpHaiKTs+ELZ1UrmCC0zmbdGE2mep6Z3ctvdOapqJgvTk1oigyy689S6Z7fHEK4zg2a6x/HZWBdeF3C79htem0rvm0EkRu+I2XxlGoVOLloYt0blbYrr48zArNkF2kcwXSuS6ijrw7jjjvWlyg3iH2pl20pqJiH8MDvfxh9fO80PMyB2bnUh40Z4Lf9j3DMxS578bT2LVngPJAD3tSYZ8YUk+/wKvj+K4R0am+aRdqQpPp3CyR1u2i0wSiKCKd7SSd7YQtttlo/rhSrllhSfGq9gUO1PoEKwM9QfzMSh4eb6FS6eD8YY4f6az1p6WynbaebJ4NZa821UbtWbfYnKbSUIESkd2BK4HdgOeAY1T1wU3NNxXElTKDzz9GqXc1lfXWTxGvr3qmhU+x3/os1g+wZniQtemYbYvmOFABLl60JcV0ioUvvMHsklk9++XbWRJFLBocolwx1+mOjnzoZK++CZtFM7oPI1g6+S4XnWlGlEqTKWwGhfEF7Y3Lw5QHejfYtFhtgqwM9ppDS2iajIeLI+K3CSW0vsSOPFGyb3HEAzJH1F7ra0y150aszqgtG9JsPWrvMA9Lt+acCdAwgRKRduAO4FJgf+DjwD0isq2q9kw031TRrw/w2oqLNrivN51iKIrYolQGYHUmzYXbbUGhXOHs1yuksyY4S9JDVDIZOvfYg80KW5LOFpiTn2XNLtX+HBccZ4JE6TYyXZuT6dp83MfEpWEbAjDYZwJW7KdSNCeQSrE2TKD20lV1Fhkwp5LwUjY5F5Aiams3t//qEIBMh62HZarqQNOWcKTJdBBl2khl2iDdZn2gmQyptC2jdFtteEE6Ez61dapp7pDyrqORFtSBQJuqXhq2bxaRE4EjgKs3Id+UkF2wmI49DuKV0gCF9k62ys0mlc3zyNAarlj1ALt3L+Qrux5OKptnQXuOufddwtzCVmz9iePItmUBOGmqC+k44yTKtE3ISksSV8ojY9ps2U+8vkhlKKQNDSbGuxWDd2TRxroNFakkvSeHi1Au2Ri6oeIUXOl4iIJgpW1wdzoNqbdbTy5tQLgt07VllLYhEamUNYcmljaovJqWTqRFo9ej+vTIjouS69HIQHUiiEimRcEyrctTbZ5N7IuqxzB6GY3KR2I/iXOPTs8UNiOV7ZzSX6yRArUYeLoubSWw6ybmmxIyhdnct2Abbn/6lxy+w1/xt7tYsNWdel8l98aj5Lq2JDt/x5H8ly39ujdbONOSKJW2Jujc5ETCjyvlIFZDxKX1o4YBxKWhRPrQqMHccTnsK4ft0pANJ6jmKZegPBwikoRlKaxXyiaMpWEgtjFy5WHijZbW2RhRe5aFJ15FOleYsu9opEAVgPq2ggEgv4n5poxtZ89n/qytyWVqYYTmFeZw7aEXv0WMXJwcZ3xEqTRRcMJoBnE1lFa5RFwuh4HeIdRWpQwhLS6XIS4n0sq1AeFxJayHkFyVSm0Z2yeulBMDykP+OJxjJIRXJYT6qh4Xj+wbOa46MD2co7Yd18KAVc9DIo1qngqmxInjiC2t6hE8Kj0eSQuZQlL9Pktr22weqfbslP5mjRSofiBXl5YH+jYx35Sx38Il7Ldwyag0FyLHeXcTVZvrWnQcn/NWGulD+hQgdWk7h/RNyec4juNMYxppQd0LRCJyMnA55p23G3DbJuZzHMdxpjENs6BUdQj4CCY4bwJnAB9T1ddF5HQReXJj+RpVVsdxHKf5NHSgrqo+AbxljghVPR84f2P5HMdxnJmDxzFxHMdxWhIXKMdxHKclcYFyHMdxWpLpGM08DfDKK+OZj8dxHMdpBoln9JhBEqejQM0DOOqoo5pdDsdxHGfjzAOe3dCO6ShQDwLvB1YB5SaXxXEcx9kwaUycxpxKKYpjD5voOI7jtB7uJOE4juO0JC5QjuM4TkviAuU4juO0JC5QjuM4TkviAuU4juO0JC5QjuM4TkviAuU4juO0JC5QjuM4TksyHSNJbDIisjtwJTaD73PAMao65ijn6YaIHAxcAOwIvAZcqKpXichs4AfAwUAfcKaq/rB5JW0c4dofA85W1Wtnal2IyDzge8AHgCLwfVU9S0TasZmvD8cit1ysqt9sXkmnHhHZF7gMEOB14AJV/cFMqgsR2Qe4S1XnhO23vXYROQn4KtAN3AEcr6r9G/set6ACoYLvAH4CzAaWA/eIyKymFqxBiMgC4FbgH7Hr/xTwTRE5BHswlbGwJEuBC0TkgGaVtcFcCcxPbM/UurgDCx82F9gXWCYiRwLnYQ/qHYAlIf0zTSvlFCMiKawuLlPVbuw+uTy83E77uhCRSESOBe4B2hO7xrz28Aw5AzgEu2+ywD+P5/tcoGocCLSp6qWqOqyqNwNPAkc0t1gNYzvgJlW9TVUrwXL8D+Ag7K3oLFUdUNVHgKuB45pW0gYhIsuAWcDjYTvPDKwLEXkvsD3wRVUtqurz2P1yL7AMWK6qa1T1BeA7wPHNKmsD2AyYA0QiEgExUAKGmBl1cR7wBexFNsnbXfsy4F9U9UlV7QO+BhwpIoWNfZkLVI3FwNN1aSuBXZtQloajqv+pqp+vbovI5tSC7sbAHxLZp329iMgi4BzgmETyTszAugD2wkT6XBH5k4g8CxwKDGJvxE8l8k7r+lDV1VhT1o+AYSzQ6enYfTIT6uJKVd0L+F01ITR7v921L67b9yymPTtt7MtcoGoUgIG6tAEg34SyNBUR6QbuBB4AHgKKqpqMKjyt60VE0sANwCmqmpxYrMAMq4tA9WVlGLOkDgNOAf4m7E/eN9O6PkITXxE4EshhluQ5zJC6UNWXN5BctYTGuvZRz9Zw/xQZR924QNXox/5wSfJYR/iMQUR2Au4HXsWas3qBbGjOqDLd6+UsQFV1RV16PzOvLgDWAz2qeq6qrlfVRzFHkWVhf/K+me71cRiwn6reHLoC7gOuYWbWRZWqs8NY1z7q2RrunyzjqBsXqBpPYZ18SXZmtGk6rRGR/TGr6XbgcFUtYs1ZEbAokXW618sngcNFZK2IrMWaKq4ATmLm1QVYc00+OBJVyQBrgFcYfd9M9/pYAHTUpZUwb76ZVhcAqOrG/gf1z9YdsPso2VS+QdzNvMa9WMfnyVgb88cxd/PbmlqqBiEiOwB3AWeo6oiHjar2ichtmEffZ7E/1+eAv2tKQRuAqu6c3BaRR4BLg5t5gRlUF4FfYQ/gi0TkK9jD5rNYZ/lzwDki8hjWlHMK8E/NKmgDuAf7/Y/DHGT2xP4DxwL/x8yqiyTXM/a1Xw9cIyK3YP+XC4AV7mY+AVR1CPgIJkxvYm6RH1PV15tasMZxAtCF3Xx9ic+3MG+cCvBH4G7MW+fnTSxrM5lxdREs6QOw/qdVwC+Ab6vqrcDZwBOYx+uD2FCFK5tU1ClHVZ/EmvmOB9YCNwFfU9U7mGF1UceY166qdwPfwNzz/4RZT+PybvQZdR3HcZyWxC0ox3EcpyVxgXIcx3FaEhcox3EcpyVxgXIcx3FaEhcox3EcpyVxgXIcx3FaEh+o6zgJRORaamFrNsR5WJT3e4GuEJ15ygnxAf8b+IyqPrOB/SdisQO3m+JyXA48qKo/msrvcRxwC8px6vkSFpl5HhYIFGCfRNp3gN+E9Y2OhJ9Evgg8uiFxajBfB74uIls0uRzODMAtKMdJoKrrgHUAIrJlSH69Lqo5WOyxhiAiWeA04ION+s6xUNXXROTXWFzCc5tcHGea4wLlOBNERA4k0cQnIjE2s+ppWJy63wGfBk4FjgZ6gNNU9fpwfBdwERYtPgb+HfjSGFMZgAWvXauqTyTKsASblXQ3LLTMb+rKeAjWHLl7+I77gb9X1ZUicjewWlWPTuQ/GzhIVQ8QkUOx0DR/joU2ukJVL0ycfgUWW225qg6Pv+YcZ2J4E5/jTA4XAP+ATYe+EPg9JkxLsAf6VYkZRL+PCdkhWIy7GPiliIz1wrgUi38HjEwm+QvgUSxY6XXAyYn922Lzef0rNlncB7E5naoicwPwURFJTo/wKeBGEZkL/AS4JJTxVGC5iByUyPtvwBbYRIaOM2W4QDnO5PBdVb03TAN/FzbXzemqqsDF2Hw4i0Rke8wiOlJVHwxW0dHAdsCHxzj33lgQzipHYHM0naiqK1X1GuDaxP4M5jBxkao+r6r3YxGlF4f9t2MBO5cCiMieWCDYW4BtgDbgRVX9o6reAhyEBQIFRoLHPhfK5ThThjfxOc7k8L+J9QHghcTMu8Ww7AC2DesqMmr6sTxmsdy1gXPPBd5IbO8CPF7XvPZbgsCp6rMiskJEvgq8B5ubZ3esuQ5VHRCRFZhQ3oLNDvtzVX1TRNYAN2IW3XPAz4DrVPXVujKtBuaMVRmOMxm4BeU4k0N9X0xljHyZkPcvgD0Sn52AH45xTAWzeJLUbw9VV0RkF2ySwfcCD2Fz85xZl/8GYGnoDzsCEyVUNVbVT4fyXRfOcb+IHF13fBooj1Fex5kU3IJynMbyNNaE1hmaAxGRTkwwvoU5M9TzCrBVYvsxbMbfDlVdH9L2TOxfBjysqodVE0Tkk4wWtV9j856dCswCfhry7Q4sU9UvA48A54nITVgf1fWJ47ekgZ6MzszEBcpxGoiqqojcCVwnIidgM9Uux5wrVo5x2ENYE12Vm4FzgKtF5HxMnI7FBAes+W1nEXk/NkHcR7FZX1cnylERkR9jAnVz6FcinOMLoanvBqxPal8S4iQi3VhT5YObVAmOM068ic9xGs8yzBX9duwh3w0crKprx8j/M8zbDxgZq/UhTCQexprwLknkvwzztPspJm5/DXwemCMif5bIdxOQJTTvhXO/iM0YeyjmmHFrKOfyxHHvw6ynhydwzY4zYXxGXcdpcUQkD7wAfFhVfz+J512KubwvUNWx+sw2dNyPgadU9RuTVRbH2RBuQTlOi6OqA9gYphMm43wiskhEPoH1eV05QXGah1lz352MsjjO2+EC5TjvDi4BdpM63/RNZAHmMfgSFtFiIpwJnKmqb240p+O8Q7yJz3Ecx2lJ3IJyHMdxWhIXKMdxHKclcYFyHMdxWhIXKMdxHKclcYFyHMdxWpL/B7WD5MxP9utdAAAAAElFTkSuQmCC\n",
      "text/plain": [
       "<Figure size 432x288 with 1 Axes>"
      ]
     },
     "metadata": {
      "needs_background": "light"
     },
     "output_type": "display_data"
    }
   ],
   "source": [
    "plot_results(S, I, R)\n",
    "savefig('figs/chap11-fig01.pdf')"
   ]
  },
  {
   "cell_type": "markdown",
   "metadata": {},
   "source": [
    "### Using a DataFrame"
   ]
  },
  {
   "cell_type": "markdown",
   "metadata": {},
   "source": [
    "Instead of making three `TimeSeries` objects, we can use one `DataFrame`.\n",
    "\n",
    "We have to use `row` to selects rows, rather than columns.  But then Pandas does the right thing, matching up the state variables with the columns of the `DataFrame`."
   ]
  },
  {
   "cell_type": "code",
   "execution_count": 91,
   "metadata": {},
   "outputs": [],
   "source": [
    "def run_simulation(system, update_func):\n",
    "    \"\"\"Runs a simulation of the system.\n",
    "        \n",
    "    system: System object\n",
    "    update_func: function that updates state\n",
    "    \n",
    "    returns: TimeFrame\n",
    "    \"\"\"\n",
    "    frame = TimeFrame(columns=system.init.index)\n",
    "    frame.row[system.t0] = system.init\n",
    "    \n",
    "    for t in linrange(system.t0, system.t_end):\n",
    "        frame.row[t+1] = update_func(frame.row[t], t, system)\n",
    "    \n",
    "    return frame"
   ]
  },
  {
   "cell_type": "markdown",
   "metadata": {},
   "source": [
    "Here's how we run it, and what the result looks like."
   ]
  },
  {
   "cell_type": "code",
   "execution_count": 92,
   "metadata": {},
   "outputs": [
    {
     "data": {
      "text/html": [
       "<div>\n",
       "<style scoped>\n",
       "    .dataframe tbody tr th:only-of-type {\n",
       "        vertical-align: middle;\n",
       "    }\n",
       "\n",
       "    .dataframe tbody tr th {\n",
       "        vertical-align: top;\n",
       "    }\n",
       "\n",
       "    .dataframe thead th {\n",
       "        text-align: right;\n",
       "    }\n",
       "</style>\n",
       "<table border=\"1\" class=\"dataframe\">\n",
       "  <thead>\n",
       "    <tr style=\"text-align: right;\">\n",
       "      <th></th>\n",
       "      <th>S</th>\n",
       "      <th>I</th>\n",
       "      <th>R</th>\n",
       "    </tr>\n",
       "  </thead>\n",
       "  <tbody>\n",
       "    <tr>\n",
       "      <td>0</td>\n",
       "      <td>0.988889</td>\n",
       "      <td>0.011111</td>\n",
       "      <td>0.000000</td>\n",
       "    </tr>\n",
       "    <tr>\n",
       "      <td>1</td>\n",
       "      <td>0.985226</td>\n",
       "      <td>0.011996</td>\n",
       "      <td>0.002778</td>\n",
       "    </tr>\n",
       "    <tr>\n",
       "      <td>2</td>\n",
       "      <td>0.981287</td>\n",
       "      <td>0.012936</td>\n",
       "      <td>0.005777</td>\n",
       "    </tr>\n",
       "    <tr>\n",
       "      <td>3</td>\n",
       "      <td>0.977055</td>\n",
       "      <td>0.013934</td>\n",
       "      <td>0.009011</td>\n",
       "    </tr>\n",
       "    <tr>\n",
       "      <td>4</td>\n",
       "      <td>0.972517</td>\n",
       "      <td>0.014988</td>\n",
       "      <td>0.012494</td>\n",
       "    </tr>\n",
       "  </tbody>\n",
       "</table>\n",
       "</div>"
      ],
      "text/plain": [
       "          S         I         R\n",
       "0  0.988889  0.011111  0.000000\n",
       "1  0.985226  0.011996  0.002778\n",
       "2  0.981287  0.012936  0.005777\n",
       "3  0.977055  0.013934  0.009011\n",
       "4  0.972517  0.014988  0.012494"
      ]
     },
     "execution_count": 92,
     "metadata": {},
     "output_type": "execute_result"
    }
   ],
   "source": [
    "tc = 3      # time between contacts in days \n",
    "tr = 4      # recovery time in days\n",
    "\n",
    "beta = 1 / tc      # contact rate in per day\n",
    "gamma = 1 / tr     # recovery rate in per day\n",
    "\n",
    "system = make_system(beta, gamma)\n",
    "results = run_simulation(system, update_func)\n",
    "results.head()"
   ]
  },
  {
   "cell_type": "markdown",
   "metadata": {},
   "source": [
    "We can extract the results and plot them."
   ]
  },
  {
   "cell_type": "code",
   "execution_count": 93,
   "metadata": {},
   "outputs": [
    {
     "data": {
      "image/png": "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\n",
      "text/plain": [
       "<Figure size 432x288 with 1 Axes>"
      ]
     },
     "metadata": {
      "needs_background": "light"
     },
     "output_type": "display_data"
    }
   ],
   "source": [
    "plot_results(results.S, results.I, results.R)"
   ]
  },
  {
   "cell_type": "markdown",
   "metadata": {},
   "source": [
    "## Exercises\n",
    "\n",
    "**Exercise**  Suppose the time between contacts is 4 days and the recovery time is 5 days.  Simulate this scenario for 14 weeks and plot the results."
   ]
  },
  {
   "cell_type": "code",
   "execution_count": 94,
   "metadata": {},
   "outputs": [
    {
     "data": {
      "image/png": "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\n",
      "text/plain": [
       "<Figure size 432x288 with 1 Axes>"
      ]
     },
     "metadata": {
      "needs_background": "light"
     },
     "output_type": "display_data"
    }
   ],
   "source": [
    "results2 = run_simulation(system2, update_func)\n",
    "plot_results(results2.S, results2.I, results2.R)"
   ]
  }
 ],
 "metadata": {
  "kernelspec": {
   "display_name": "Python 3",
   "language": "python",
   "name": "python3"
  },
  "language_info": {
   "codemirror_mode": {
    "name": "ipython",
    "version": 3
   },
   "file_extension": ".py",
   "mimetype": "text/x-python",
   "name": "python",
   "nbconvert_exporter": "python",
   "pygments_lexer": "ipython3",
<<<<<<< HEAD
   "version": "3.7.4"
=======
   "version": "3.6.8"
>>>>>>> 8d9841743ba9fb4e0e58a85195528101dc7e8a7e
  }
 },
 "nbformat": 4,
 "nbformat_minor": 2
}
